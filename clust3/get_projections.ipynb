{
 "cells": [
  {
   "cell_type": "code",
   "execution_count": 1,
   "metadata": {},
   "outputs": [],
   "source": [
    "import numpy as np\n",
    "import umap\n",
    "import time\n",
    "import pickle"
   ]
  },
  {
   "cell_type": "code",
   "execution_count": 2,
   "metadata": {},
   "outputs": [],
   "source": [
    "def bipolarize(Y):\n",
    "    X = np.copy(Y)\n",
    "    X[X > 0] = 1.0\n",
    "    X[X < 0] = -1.0\n",
    "    X[X == 0] = np.random.choice([-1.0, 1.0], size=len(X[X == 0]))\n",
    "    return X\n",
    "\n",
    "def centroids(X,label=None):\n",
    "    if label is not None:\n",
    "        cLabel,cCounts = np.unique(label,return_counts=True)\n",
    "        cLabel = cLabel[cCounts > 1]\n",
    "        c = np.zeros((len(cLabel), X.shape[1]))\n",
    "        for i,l in enumerate(cLabel):\n",
    "            c[i,:] = bipolarize(np.sum(X[label==l],axis=0))\n",
    "    else:\n",
    "        c = bipolarize(np.sum(X,axis=0)).reshape(1,-1)\n",
    "        cLabel = [0]\n",
    "    return cLabel, c.astype('int')\n",
    "\n",
    "def classify(v,am,metric):\n",
    "    d = cdist(v,am,metric)\n",
    "    label = np.argmin(d,axis=1)\n",
    "    return label"
   ]
  },
  {
   "cell_type": "code",
   "execution_count": 3,
   "metadata": {},
   "outputs": [],
   "source": [
    "dataName = 'allHV.npz'\n",
    "emgHVType =  'hvRelAcc'\n",
    "projName = 'projAcc.pickle'\n",
    "\n",
    "allHV = np.load(dataName)\n",
    "hv = allHV[emgHVType]\n",
    "gestLabel = allHV['gestLabel']\n",
    "posLabel = allHV['posLabel']\n",
    "trialLabel = allHV['trialLabel']\n",
    "\n",
    "combGP, groupGP = np.unique(np.column_stack((gestLabel,posLabel)),axis=0,return_inverse=True)\n",
    "\n",
    "gestures = np.unique(gestLabel)\n",
    "positions = np.unique(posLabel)\n",
    "trials = np.unique(trialLabel)\n",
    "\n",
    "numGestures = len(gestures)\n",
    "numPositions = len(positions)\n",
    "numTrials = len(trials)\n",
    "\n",
    "D = hv.shape[1]\n",
    "numHV = 80"
   ]
  },
  {
   "cell_type": "code",
   "execution_count": 4,
   "metadata": {},
   "outputs": [],
   "source": [
    "gCentroids = centroids(hv,label=gestLabel)[1]\n",
    "gpCentroids = centroids(hv,label=groupGP)[1]"
   ]
  },
  {
   "cell_type": "code",
   "execution_count": 5,
   "metadata": {},
   "outputs": [
    {
     "name": "stdout",
     "output_type": "stream",
     "text": [
      "Running UMAP on all data...\n"
     ]
    },
    {
     "name": "stderr",
     "output_type": "stream",
     "text": [
      "/Users/andy/opt/anaconda3/envs/hdcpar/lib/python3.7/site-packages/umap/umap_.py:1530: UserWarning: gradient function is not yet implemented for hamming distance metric; inverse_transform will be unavailable\n",
      "  \"inverse_transform will be unavailable\".format(self.metric)\n"
     ]
    },
    {
     "name": "stdout",
     "output_type": "stream",
     "text": [
      "\tTook 225.855121 seconds\n",
      "Running UMAP on gesture 0 data...\n"
     ]
    },
    {
     "name": "stderr",
     "output_type": "stream",
     "text": [
      "/Users/andy/opt/anaconda3/envs/hdcpar/lib/python3.7/site-packages/umap/umap_.py:1530: UserWarning: gradient function is not yet implemented for hamming distance metric; inverse_transform will be unavailable\n",
      "  \"inverse_transform will be unavailable\".format(self.metric)\n"
     ]
    },
    {
     "name": "stdout",
     "output_type": "stream",
     "text": [
      "\tTook 81.970490 seconds\n",
      "Running UMAP on gesture 1 data...\n"
     ]
    },
    {
     "name": "stderr",
     "output_type": "stream",
     "text": [
      "/Users/andy/opt/anaconda3/envs/hdcpar/lib/python3.7/site-packages/umap/umap_.py:1530: UserWarning: gradient function is not yet implemented for hamming distance metric; inverse_transform will be unavailable\n",
      "  \"inverse_transform will be unavailable\".format(self.metric)\n"
     ]
    },
    {
     "name": "stdout",
     "output_type": "stream",
     "text": [
      "\tTook 77.219692 seconds\n",
      "Running UMAP on gesture 2 data...\n"
     ]
    },
    {
     "name": "stderr",
     "output_type": "stream",
     "text": [
      "/Users/andy/opt/anaconda3/envs/hdcpar/lib/python3.7/site-packages/umap/umap_.py:1530: UserWarning: gradient function is not yet implemented for hamming distance metric; inverse_transform will be unavailable\n",
      "  \"inverse_transform will be unavailable\".format(self.metric)\n"
     ]
    },
    {
     "name": "stdout",
     "output_type": "stream",
     "text": [
      "\tTook 76.344426 seconds\n",
      "Running UMAP on gesture 3 data...\n"
     ]
    },
    {
     "name": "stderr",
     "output_type": "stream",
     "text": [
      "/Users/andy/opt/anaconda3/envs/hdcpar/lib/python3.7/site-packages/umap/umap_.py:1530: UserWarning: gradient function is not yet implemented for hamming distance metric; inverse_transform will be unavailable\n",
      "  \"inverse_transform will be unavailable\".format(self.metric)\n"
     ]
    },
    {
     "name": "stdout",
     "output_type": "stream",
     "text": [
      "\tTook 77.163767 seconds\n",
      "Running UMAP on gesture 4 data...\n"
     ]
    },
    {
     "name": "stderr",
     "output_type": "stream",
     "text": [
      "/Users/andy/opt/anaconda3/envs/hdcpar/lib/python3.7/site-packages/umap/umap_.py:1530: UserWarning: gradient function is not yet implemented for hamming distance metric; inverse_transform will be unavailable\n",
      "  \"inverse_transform will be unavailable\".format(self.metric)\n"
     ]
    },
    {
     "name": "stdout",
     "output_type": "stream",
     "text": [
      "\tTook 77.189683 seconds\n",
      "Running UMAP on gesture 5 data...\n"
     ]
    },
    {
     "name": "stderr",
     "output_type": "stream",
     "text": [
      "/Users/andy/opt/anaconda3/envs/hdcpar/lib/python3.7/site-packages/umap/umap_.py:1530: UserWarning: gradient function is not yet implemented for hamming distance metric; inverse_transform will be unavailable\n",
      "  \"inverse_transform will be unavailable\".format(self.metric)\n"
     ]
    },
    {
     "name": "stdout",
     "output_type": "stream",
     "text": [
      "\tTook 77.068501 seconds\n",
      "Running UMAP on gesture 6 data...\n"
     ]
    },
    {
     "name": "stderr",
     "output_type": "stream",
     "text": [
      "/Users/andy/opt/anaconda3/envs/hdcpar/lib/python3.7/site-packages/umap/umap_.py:1530: UserWarning: gradient function is not yet implemented for hamming distance metric; inverse_transform will be unavailable\n",
      "  \"inverse_transform will be unavailable\".format(self.metric)\n"
     ]
    },
    {
     "name": "stdout",
     "output_type": "stream",
     "text": [
      "\tTook 77.499075 seconds\n",
      "Running UMAP on gesture 7 data...\n"
     ]
    },
    {
     "name": "stderr",
     "output_type": "stream",
     "text": [
      "/Users/andy/opt/anaconda3/envs/hdcpar/lib/python3.7/site-packages/umap/umap_.py:1530: UserWarning: gradient function is not yet implemented for hamming distance metric; inverse_transform will be unavailable\n",
      "  \"inverse_transform will be unavailable\".format(self.metric)\n"
     ]
    },
    {
     "name": "stdout",
     "output_type": "stream",
     "text": [
      "\tTook 77.713274 seconds\n",
      "Running UMAP on gesture 8 data...\n"
     ]
    },
    {
     "name": "stderr",
     "output_type": "stream",
     "text": [
      "/Users/andy/opt/anaconda3/envs/hdcpar/lib/python3.7/site-packages/umap/umap_.py:1530: UserWarning: gradient function is not yet implemented for hamming distance metric; inverse_transform will be unavailable\n",
      "  \"inverse_transform will be unavailable\".format(self.metric)\n"
     ]
    },
    {
     "name": "stdout",
     "output_type": "stream",
     "text": [
      "\tTook 77.563165 seconds\n",
      "Running UMAP on gesture 9 data...\n"
     ]
    },
    {
     "name": "stderr",
     "output_type": "stream",
     "text": [
      "/Users/andy/opt/anaconda3/envs/hdcpar/lib/python3.7/site-packages/umap/umap_.py:1530: UserWarning: gradient function is not yet implemented for hamming distance metric; inverse_transform will be unavailable\n",
      "  \"inverse_transform will be unavailable\".format(self.metric)\n"
     ]
    },
    {
     "name": "stdout",
     "output_type": "stream",
     "text": [
      "\tTook 77.973036 seconds\n",
      "Running UMAP on gesture 10 data...\n"
     ]
    },
    {
     "name": "stderr",
     "output_type": "stream",
     "text": [
      "/Users/andy/opt/anaconda3/envs/hdcpar/lib/python3.7/site-packages/umap/umap_.py:1530: UserWarning: gradient function is not yet implemented for hamming distance metric; inverse_transform will be unavailable\n",
      "  \"inverse_transform will be unavailable\".format(self.metric)\n"
     ]
    },
    {
     "name": "stdout",
     "output_type": "stream",
     "text": [
      "\tTook 77.763024 seconds\n",
      "Running UMAP on gesture 11 data...\n"
     ]
    },
    {
     "name": "stderr",
     "output_type": "stream",
     "text": [
      "/Users/andy/opt/anaconda3/envs/hdcpar/lib/python3.7/site-packages/umap/umap_.py:1530: UserWarning: gradient function is not yet implemented for hamming distance metric; inverse_transform will be unavailable\n",
      "  \"inverse_transform will be unavailable\".format(self.metric)\n"
     ]
    },
    {
     "name": "stdout",
     "output_type": "stream",
     "text": [
      "\tTook 76.742719 seconds\n",
      "Running UMAP on gesture 12 data...\n"
     ]
    },
    {
     "name": "stderr",
     "output_type": "stream",
     "text": [
      "/Users/andy/opt/anaconda3/envs/hdcpar/lib/python3.7/site-packages/umap/umap_.py:1530: UserWarning: gradient function is not yet implemented for hamming distance metric; inverse_transform will be unavailable\n",
      "  \"inverse_transform will be unavailable\".format(self.metric)\n"
     ]
    },
    {
     "name": "stdout",
     "output_type": "stream",
     "text": [
      "\tTook 77.213499 seconds\n",
      "Running UMAP on position 0 data...\n"
     ]
    },
    {
     "name": "stderr",
     "output_type": "stream",
     "text": [
      "/Users/andy/opt/anaconda3/envs/hdcpar/lib/python3.7/site-packages/umap/umap_.py:1530: UserWarning: gradient function is not yet implemented for hamming distance metric; inverse_transform will be unavailable\n",
      "  \"inverse_transform will be unavailable\".format(self.metric)\n"
     ]
    },
    {
     "name": "stdout",
     "output_type": "stream",
     "text": [
      "\tTook 200.417923 seconds\n",
      "Running UMAP on position 1 data...\n"
     ]
    },
    {
     "name": "stderr",
     "output_type": "stream",
     "text": [
      "/Users/andy/opt/anaconda3/envs/hdcpar/lib/python3.7/site-packages/umap/umap_.py:1530: UserWarning: gradient function is not yet implemented for hamming distance metric; inverse_transform will be unavailable\n",
      "  \"inverse_transform will be unavailable\".format(self.metric)\n"
     ]
    },
    {
     "name": "stdout",
     "output_type": "stream",
     "text": [
      "\tTook 200.693273 seconds\n",
      "Running UMAP on position 2 data...\n"
     ]
    },
    {
     "name": "stderr",
     "output_type": "stream",
     "text": [
      "/Users/andy/opt/anaconda3/envs/hdcpar/lib/python3.7/site-packages/umap/umap_.py:1530: UserWarning: gradient function is not yet implemented for hamming distance metric; inverse_transform will be unavailable\n",
      "  \"inverse_transform will be unavailable\".format(self.metric)\n"
     ]
    },
    {
     "name": "stdout",
     "output_type": "stream",
     "text": [
      "\tTook 207.908245 seconds\n",
      "Running UMAP on position 3 data...\n"
     ]
    },
    {
     "name": "stderr",
     "output_type": "stream",
     "text": [
      "/Users/andy/opt/anaconda3/envs/hdcpar/lib/python3.7/site-packages/umap/umap_.py:1530: UserWarning: gradient function is not yet implemented for hamming distance metric; inverse_transform will be unavailable\n",
      "  \"inverse_transform will be unavailable\".format(self.metric)\n"
     ]
    },
    {
     "name": "stdout",
     "output_type": "stream",
     "text": [
      "\tTook 199.469086 seconds\n",
      "Running UMAP on position 4 data...\n"
     ]
    },
    {
     "name": "stderr",
     "output_type": "stream",
     "text": [
      "/Users/andy/opt/anaconda3/envs/hdcpar/lib/python3.7/site-packages/umap/umap_.py:1530: UserWarning: gradient function is not yet implemented for hamming distance metric; inverse_transform will be unavailable\n",
      "  \"inverse_transform will be unavailable\".format(self.metric)\n"
     ]
    },
    {
     "name": "stdout",
     "output_type": "stream",
     "text": [
      "\tTook 200.435284 seconds\n",
      "Running UMAP on position 5 data...\n"
     ]
    },
    {
     "name": "stderr",
     "output_type": "stream",
     "text": [
      "/Users/andy/opt/anaconda3/envs/hdcpar/lib/python3.7/site-packages/umap/umap_.py:1530: UserWarning: gradient function is not yet implemented for hamming distance metric; inverse_transform will be unavailable\n",
      "  \"inverse_transform will be unavailable\".format(self.metric)\n"
     ]
    },
    {
     "name": "stdout",
     "output_type": "stream",
     "text": [
      "\tTook 198.646606 seconds\n",
      "Running UMAP on position 6 data...\n"
     ]
    },
    {
     "name": "stderr",
     "output_type": "stream",
     "text": [
      "/Users/andy/opt/anaconda3/envs/hdcpar/lib/python3.7/site-packages/umap/umap_.py:1530: UserWarning: gradient function is not yet implemented for hamming distance metric; inverse_transform will be unavailable\n",
      "  \"inverse_transform will be unavailable\".format(self.metric)\n"
     ]
    },
    {
     "name": "stdout",
     "output_type": "stream",
     "text": [
      "\tTook 207.427338 seconds\n",
      "Running UMAP on position 7 data...\n"
     ]
    },
    {
     "name": "stderr",
     "output_type": "stream",
     "text": [
      "/Users/andy/opt/anaconda3/envs/hdcpar/lib/python3.7/site-packages/umap/umap_.py:1530: UserWarning: gradient function is not yet implemented for hamming distance metric; inverse_transform will be unavailable\n",
      "  \"inverse_transform will be unavailable\".format(self.metric)\n"
     ]
    },
    {
     "name": "stdout",
     "output_type": "stream",
     "text": [
      "\tTook 208.483859 seconds\n"
     ]
    }
   ],
   "source": [
    "reducer = umap.UMAP(n_neighbors=40,min_dist=0.99,metric='hamming')\n",
    "print('Running UMAP on all data...')\n",
    "start = time.time()\n",
    "projAll = reducer.fit_transform(hv)\n",
    "projAllG = reducer.transform(gCentroids)\n",
    "projAllGP = reducer.transform(gpCentroids)\n",
    "stop = time.time()\n",
    "print('\\tTook %f seconds' % (stop - start))\n",
    "\n",
    "projGesture = []\n",
    "projGestureG = []\n",
    "projGestureGP = []\n",
    "for g in gestures:\n",
    "    reducer = umap.UMAP(n_neighbors=40,min_dist=0.99,metric='hamming')\n",
    "    print('Running UMAP on gesture %d data...' % (g))\n",
    "    start = time.time()\n",
    "    projGesture.append(reducer.fit_transform(hv[(gestLabel == g)]))\n",
    "    projGestureG.append(reducer.transform(gCentroids[gestures == g]))\n",
    "    projGestureGP.append(reducer.transform(gpCentroids[combGP[:,0] == g]))\n",
    "    stop = time.time()\n",
    "    print('\\tTook %f seconds' % (stop - start))\n",
    "    \n",
    "projPosition = []\n",
    "projPositionGP = []\n",
    "for p in positions:\n",
    "    reducer = umap.UMAP(n_neighbors=40,min_dist=0.99,metric='hamming')\n",
    "    print('Running UMAP on position %d data...' % (p))\n",
    "    start = time.time()\n",
    "    projPosition.append(reducer.fit_transform(hv[(posLabel == p)]))\n",
    "    projPositionGP.append(reducer.transform(gpCentroids[combGP[:,1] == p]))\n",
    "    stop = time.time()\n",
    "    print('\\tTook %f seconds' % (stop - start))\n",
    "    \n",
    "out = {'projAll':projAll, 'projAllG':projAllG, 'projAllGP':projAllGP, 'projGesture':projGesture, 'projGestureG':projGestureG, 'projGestureGP':projGestureGP, 'projPosition':projPosition, 'projPositionGP':projPositionGP}"
   ]
  },
  {
   "cell_type": "code",
   "execution_count": 6,
   "metadata": {},
   "outputs": [],
   "source": [
    "with open(projName, 'wb') as f:\n",
    "    pickle.dump(out, f, protocol=pickle.HIGHEST_PROTOCOL)"
   ]
  }
 ],
 "metadata": {
  "kernelspec": {
   "display_name": "Python 3",
   "language": "python",
   "name": "python3"
  },
  "language_info": {
   "codemirror_mode": {
    "name": "ipython",
    "version": 3
   },
   "file_extension": ".py",
   "mimetype": "text/x-python",
   "name": "python",
   "nbconvert_exporter": "python",
   "pygments_lexer": "ipython3",
   "version": "3.7.7"
  }
 },
 "nbformat": 4,
 "nbformat_minor": 4
}
