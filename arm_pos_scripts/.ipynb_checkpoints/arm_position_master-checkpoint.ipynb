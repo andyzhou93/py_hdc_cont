{
 "cells": [
  {
   "cell_type": "code",
   "execution_count": 1,
   "metadata": {},
   "outputs": [
    {
     "data": {
      "text/html": [
       "<style>.container { width:100% !important; }</style>"
      ],
      "text/plain": [
       "<IPython.core.display.HTML object>"
      ]
     },
     "metadata": {},
     "output_type": "display_data"
    }
   ],
   "source": [
    "from IPython.core.display import display, HTML\n",
    "display(HTML(\"<style>.container { width:100% !important; }</style>\"))\n",
    "import matplotlib.pyplot as plt\n",
    "%matplotlib notebook\n",
    "\n",
    "import h5py\n",
    "import hdc_clust_labels as hdc\n",
    "import numpy as np\n",
    "from sklearn import svm\n",
    "from itertools import combinations\n",
    "import scipy.io as sio"
   ]
  },
  {
   "cell_type": "code",
   "execution_count": 2,
   "metadata": {},
   "outputs": [],
   "source": [
    "# arguments to be input from command line or script\n",
    "imType = 'randIM'\n",
    "emgHVType = 'emgHV' # emgHV emgHV64 emgHVCAR emgHVCARNorm emgHVCARRel emgHVCARZeroed emgHVNorm emgHVRel emgHVZeroed\n",
    "contextType = 'accel' # none random accel\n",
    "clusterType = 'separate' # single separate auto\n",
    "autoThreshold = 55 # 0 - 100\n",
    "numTrainPositions = 1 # 1 2 3 4 5\n",
    "numIters = 5\n",
    "\n",
    "if clusterType == 'auto':\n",
    "    matName = emgHVType + '_' + contextType + '_' + clusterType + '_' + str(autoThreshold) + '_' + str(numTrainPositions) + '_' + str(numIters)\n",
    "else:\n",
    "    matName = emgHVType + '_' + contextType + '_' + clusterType + '_' + str(numTrainPositions) + '_' + str(numIters)\n",
    "\n",
    "autoThreshold = float(autoThreshold/100)"
   ]
  },
  {
   "cell_type": "code",
   "execution_count": 3,
   "metadata": {},
   "outputs": [],
   "source": [
    "dataFile = '/Users/andy/Research/py_hdc_cont/emg_mat/armPosition/' + imType + '_hv.mat'\n",
    "\n",
    "# file is saved in hdf5 format\n",
    "file = h5py.File(dataFile,'r')\n",
    "experimentData = file['experimentData']\n",
    "keys = list(experimentData.keys())\n",
    "\n",
    "numTrials, numPositions, numGestures = experimentData[keys[0]].shape\n",
    "D = file[experimentData[keys[4]][0,0,0]].shape[1]\n",
    "\n",
    "if contextType == 'random':\n",
    "    contextVec = np.random.choice([-1.0, 1.0], size=(numPositions,D))"
   ]
  },
  {
   "cell_type": "code",
   "execution_count": 4,
   "metadata": {},
   "outputs": [],
   "source": [
    "trainCombinations = list(combinations(np.arange(numPositions),numTrainPositions))\n",
    "numCombinations = len(trainCombinations)"
   ]
  },
  {
   "cell_type": "code",
   "execution_count": 5,
   "metadata": {},
   "outputs": [],
   "source": [
    "# output data to be put into struct\n",
    "meanHDAcc = np.zeros((numCombinations,numPositions))\n",
    "\n",
    "# keep track of clustering only if separate clustering is used\n",
    "if clusterType == 'separate':\n",
    "    clustHits = np.zeros((numCombinations,numPositions,numPositions))\n",
    "    clustCorrectHits = np.zeros((numCombinations,numPositions,numPositions))\n",
    "    clustIncorrectHits = np.zeros((numCombinations,numPositions,numPositions))"
   ]
  },
  {
   "cell_type": "code",
   "execution_count": 6,
   "metadata": {},
   "outputs": [],
   "source": [
    "for apComb in range(numCombinations):\n",
    "    for apTest in range(numPositions):\n",
    "        hdAcc = []\n",
    "        svmAcc = []\n",
    "        for n in range(numIters):\n",
    "            # set up new associative memory\n",
    "            AM = []\n",
    "            AM = hdc.Memory(D)\n",
    "            # train/test split with single trial for training, remaining trials for testing\n",
    "            trainTrials = np.random.randint(numTrials,size=numGestures)\n",
    "            for apTrain in trainCombinations[apComb]:\n",
    "                for g in range(numGestures):\n",
    "                    for t in range(numTrials):\n",
    "                        if t == trainTrials[g]:\n",
    "                            expLabel = file[experimentData['expGestLabel'][t,apTrain,g]][0,:]\n",
    "                            ng = file[experimentData[emgHVType][t,apTrain,g]][expLabel>0,:]\n",
    "                            \n",
    "                            if contextType == 'random':\n",
    "                                ng = ng*contextVec[apTrain]\n",
    "                            elif contextType == 'accel':\n",
    "                                accHV = file[experimentData['accHV64'][t,apTrain,g]][expLabel>0,:]\n",
    "                                ng = ng*accHV\n",
    "                            \n",
    "                            if clusterType == 'single':\n",
    "                                AM.train(ng,vClass=g,vClust=0)\n",
    "                            elif clusterType == 'separate':\n",
    "                                AM.train(ng,vClass=g,vClust=apTrain)\n",
    "                            elif clusterType == 'auto':\n",
    "                                AM.train_sub_cluster(ng,vClass=g,vClustLabel=apTrain,threshold=autoThreshold)\n",
    "            \n",
    "            if clusterType == 'auto':\n",
    "                AM.prune(min=numTrainPositions)\n",
    "                \n",
    "            # test AM\n",
    "            for g in range(numGestures):\n",
    "                for t in range(numTrials):\n",
    "                    if t != trainTrials[g]:\n",
    "                        expLabel = file[experimentData['expGestLabel'][t,apTest,g]][0,:]\n",
    "                        ng = file[experimentData[emgHVType][t,apTest,g]][expLabel>0,:]\n",
    "                        \n",
    "                        if contextType == 'random':\n",
    "                            ng = ng*contextVec[apTest]\n",
    "                        elif contextType == 'accel':\n",
    "                            accHV = file[experimentData['accHV64'][t,apTest,g]][expLabel>0,:]\n",
    "                            ng = ng*accHV\n",
    "                        \n",
    "                        label,clust,clustLabel,sim = AM.match(np.asarray(ng),bipolar=True)\n",
    "                        clust = np.asarray(clustLabel)\n",
    "                        label = np.asarray(label)\n",
    "                        hdAcc.append(np.sum(label == g)/len(label))\n",
    "                        \n",
    "                        if clusterType == 'separate':\n",
    "                            for p in range(numPositions):\n",
    "                                clustHits[apComb,apTest,p] += sum(clust == p)\n",
    "                                clustCorrectHits[apComb,apTest,p] += sum(clust[label==g] == p)\n",
    "                                clustIncorrectHits[apComb,apTest,p] += sum(clust[label!=g] == p)\n",
    "                                \n",
    "        meanHDAcc[apComb,apTest] = np.mean(hdAcc)"
   ]
  },
  {
   "cell_type": "code",
   "execution_count": 8,
   "metadata": {},
   "outputs": [],
   "source": [
    "matOut = {}\n",
    "matOut['meanHDAcc'] = meanHDAcc\n",
    "matOut['trainCombinations'] = trainCombinations\n",
    "if clusterType == 'separate':\n",
    "    matOut['clustHits'] = clustHits\n",
    "    matOut['clustCorrectHits'] = clustCorrectHits\n",
    "    matOut['clustIncorrectHits'] = clustIncorrectHits\n",
    "    \n",
    "# sio.savemat('./outputs/' + matName, matOut)"
   ]
  },
  {
   "cell_type": "code",
   "execution_count": null,
   "metadata": {},
   "outputs": [],
   "source": []
  }
 ],
 "metadata": {
  "kernelspec": {
   "display_name": "Python 3",
   "language": "python",
   "name": "python3"
  },
  "language_info": {
   "codemirror_mode": {
    "name": "ipython",
    "version": 3
   },
   "file_extension": ".py",
   "mimetype": "text/x-python",
   "name": "python",
   "nbconvert_exporter": "python",
   "pygments_lexer": "ipython3",
   "version": "3.7.7"
  }
 },
 "nbformat": 4,
 "nbformat_minor": 4
}
