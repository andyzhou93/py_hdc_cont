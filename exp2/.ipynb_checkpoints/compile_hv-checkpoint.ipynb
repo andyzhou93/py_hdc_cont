{
 "cells": [
  {
   "cell_type": "code",
   "execution_count": 1,
   "metadata": {},
   "outputs": [],
   "source": [
    "import h5py\n",
    "import numpy as np\n",
    "import matplotlib.pyplot as plt\n",
    "%matplotlib notebook"
   ]
  },
  {
   "cell_type": "code",
   "execution_count": 2,
   "metadata": {},
   "outputs": [],
   "source": [
    "dataFile = 'data.mat'"
   ]
  },
  {
   "cell_type": "code",
   "execution_count": 3,
   "metadata": {},
   "outputs": [],
   "source": [
    "file = h5py.File(dataFile,'r')\n",
    "experimentData = file['experimentData']\n",
    "keys = list(experimentData.keys())"
   ]
  },
  {
   "cell_type": "code",
   "execution_count": 4,
   "metadata": {},
   "outputs": [],
   "source": [
    "numTrials, numPositions, numGestures = experimentData[keys[0]].shape\n",
    "D = file[experimentData[keys[4]][0,0,0]].shape[1]"
   ]
  },
  {
   "cell_type": "code",
   "execution_count": 5,
   "metadata": {
    "scrolled": true
   },
   "outputs": [
    {
     "name": "stdout",
     "output_type": "stream",
     "text": [
      "0 - 0\n",
      "0 - 1\n",
      "0 - 2\n",
      "0 - 3\n",
      "0 - 4\n",
      "0 - 5\n",
      "0 - 6\n",
      "0 - 7\n",
      "1 - 0\n",
      "1 - 1\n",
      "1 - 2\n",
      "1 - 3\n",
      "1 - 4\n",
      "1 - 5\n",
      "1 - 6\n",
      "1 - 7\n",
      "2 - 0\n",
      "2 - 1\n",
      "2 - 2\n",
      "2 - 3\n",
      "2 - 4\n",
      "2 - 5\n",
      "2 - 6\n",
      "2 - 7\n",
      "3 - 0\n",
      "3 - 1\n",
      "3 - 2\n",
      "3 - 3\n",
      "3 - 4\n",
      "3 - 5\n",
      "3 - 6\n",
      "3 - 7\n",
      "4 - 0\n",
      "4 - 1\n",
      "4 - 2\n",
      "4 - 3\n",
      "4 - 4\n",
      "4 - 5\n",
      "4 - 6\n",
      "4 - 7\n",
      "5 - 0\n",
      "5 - 1\n",
      "5 - 2\n",
      "5 - 3\n",
      "5 - 4\n",
      "5 - 5\n",
      "5 - 6\n",
      "5 - 7\n",
      "6 - 0\n",
      "6 - 1\n",
      "6 - 2\n",
      "6 - 3\n",
      "6 - 4\n",
      "6 - 5\n",
      "6 - 6\n",
      "6 - 7\n",
      "7 - 0\n",
      "7 - 1\n",
      "7 - 2\n",
      "7 - 3\n",
      "7 - 4\n",
      "7 - 5\n",
      "7 - 6\n",
      "7 - 7\n",
      "8 - 0\n",
      "8 - 1\n",
      "8 - 2\n",
      "8 - 3\n",
      "8 - 4\n",
      "8 - 5\n",
      "8 - 6\n",
      "8 - 7\n",
      "9 - 0\n",
      "9 - 1\n",
      "9 - 2\n",
      "9 - 3\n",
      "9 - 4\n",
      "9 - 5\n",
      "9 - 6\n",
      "9 - 7\n",
      "10 - 0\n",
      "10 - 1\n",
      "10 - 2\n",
      "10 - 3\n",
      "10 - 4\n",
      "10 - 5\n",
      "10 - 6\n",
      "10 - 7\n",
      "11 - 0\n",
      "11 - 1\n",
      "11 - 2\n",
      "11 - 3\n",
      "11 - 4\n",
      "11 - 5\n",
      "11 - 6\n",
      "11 - 7\n",
      "12 - 0\n",
      "12 - 1\n",
      "12 - 2\n",
      "12 - 3\n",
      "12 - 4\n",
      "12 - 5\n",
      "12 - 6\n",
      "12 - 7\n"
     ]
    }
   ],
   "source": [
    "hvRel = np.zeros((0,D),dtype=np.int8)\n",
    "hvRelAcc = np.zeros((0,D),dtype=np.int8)\n",
    "hvAbs = np.zeros((0,D),dtype=np.int8)\n",
    "hvAbsAcc = np.zeros((0,D),dtype=np.int8)\n",
    "gestLabel = np.zeros(0,dtype=np.int8)\n",
    "posLabel = np.zeros(0,dtype=np.int8)\n",
    "trialLabel = np.zeros(0,dtype=np.int8)\n",
    "for g in range(numGestures):\n",
    "    for p in range(numPositions):\n",
    "        print('%d - %d' % (g,p))\n",
    "        for t in range(numTrials):\n",
    "            expLabel = file[experimentData['expGestLabel'][t,p,g]][0,:]\n",
    "            r = file[experimentData['emgHV'][t,p,g]][expLabel>0,:]\n",
    "            a = file[experimentData['emgHVCIM'][t,p,g]][expLabel>0,:]\n",
    "            ac = file[experimentData['accHV'][t,p,g]][expLabel>0,:]\n",
    "            \n",
    "            hvRel = np.concatenate((hvRel,r))\n",
    "            hvRelAcc = np.concatenate((hvRelAcc,r*ac))\n",
    "            \n",
    "            hvAbs = np.concatenate((hvAbs,a))\n",
    "            hvAbsAcc = np.concatenate((hvAbsAcc,a*ac))\n",
    "            \n",
    "            gestLabel = np.concatenate((gestLabel,g*np.ones(r.shape[0],dtype=np.int8)))\n",
    "            posLabel = np.concatenate((posLabel,p*np.ones(r.shape[0],dtype=np.int8)))\n",
    "            trialLabel = np.concatenate((trialLabel,t*np.ones(r.shape[0],dtype=np.int8)))\n",
    "            "
   ]
  },
  {
   "cell_type": "code",
   "execution_count": 6,
   "metadata": {},
   "outputs": [],
   "source": [
    "# np.savez('allHV.npz',hvRel=hvRel,hvRelAcc=hvRelAcc,hvAbs=hvAbs,hvAbsAcc=hvAbsAcc,gestLabel=gestLabel,posLabel=posLabel,trialLabel=trialLabel)"
   ]
  }
 ],
 "metadata": {
  "kernelspec": {
   "display_name": "Python 3",
   "language": "python",
   "name": "python3"
  },
  "language_info": {
   "codemirror_mode": {
    "name": "ipython",
    "version": 3
   },
   "file_extension": ".py",
   "mimetype": "text/x-python",
   "name": "python",
   "nbconvert_exporter": "python",
   "pygments_lexer": "ipython3",
   "version": "3.7.7"
  }
 },
 "nbformat": 4,
 "nbformat_minor": 4
}
