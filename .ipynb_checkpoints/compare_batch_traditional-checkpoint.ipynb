{
 "cells": [
  {
   "cell_type": "code",
   "execution_count": 1,
   "metadata": {},
   "outputs": [
    {
     "data": {
      "text/html": [
       "<style>.container { width:90% !important; }</style>"
      ],
      "text/plain": [
       "<IPython.core.display.HTML object>"
      ]
     },
     "metadata": {},
     "output_type": "display_data"
    }
   ],
   "source": [
    "from IPython.core.display import display, HTML\n",
    "display(HTML(\"<style>.container { width:90% !important; }</style>\"))\n",
    "\n",
    "import scipy.io as sio\n",
    "import numpy as np\n",
    "import pandas as pd\n",
    "from matplotlib import pyplot as plt\n",
    "\n",
    "from sklearn import svm\n",
    "from sklearn.metrics import accuracy_score\n",
    "from sklearn.discriminant_analysis import LinearDiscriminantAnalysis\n",
    "\n",
    "%matplotlib notebook"
   ]
  },
  {
   "cell_type": "markdown",
   "metadata": {},
   "source": [
    "# Arm position experiment, all subjects"
   ]
  },
  {
   "cell_type": "code",
   "execution_count": 2,
   "metadata": {},
   "outputs": [
    {
     "name": "stdout",
     "output_type": "stream",
     "text": [
      "Running Subject 1\n",
      "\t Iteration 2: Accuracy = 0.996635, # SV = 943\n",
      "Running Subject 2\n",
      "\t Iteration 2: Accuracy = 0.996635, # SV = 797\n",
      "Running Subject 3\n",
      "\t Iteration 2: Accuracy = 0.967788, # SV = 1332\n",
      "Running Subject 4\n",
      "\t Iteration 2: Accuracy = 0.987500, # SV = 1163\n",
      "Running Subject 5\n",
      "\t Iteration 2: Accuracy = 0.969231, # SV = 2065\n"
     ]
    }
   ],
   "source": [
    "# location of all offline data\n",
    "dataDir = './emg_mat/offline/'\n",
    "\n",
    "baseExperiment = 1\n",
    "newExperiment = 3\n",
    "\n",
    "holdStart = 70\n",
    "holdEnd = 149\n",
    "\n",
    "numIter = 50\n",
    "\n",
    "numSVM = np.zeros((5,numIter))\n",
    "accSVM = np.zeros((5,numIter))\n",
    "for s in range(5):\n",
    "    subject = s + 1\n",
    "    print('Running Subject ' + str(subject))\n",
    "    filename = dataDir + 'S' + str(subject) + 'E' + str(baseExperiment) + '.mat'\n",
    "    base = sio.loadmat(filename)['emgHD']\n",
    "    filename = dataDir + 'S' + str(subject) + 'E' + str(newExperiment) + '.mat'\n",
    "    new = sio.loadmat(filename)['emgHD']\n",
    "    \n",
    "    numGest, numTrial = base.shape\n",
    "    numCh = base[0,0][2].shape[1]\n",
    "    numEx = holdEnd - holdStart + 1\n",
    "    \n",
    "    for n in range(numIter):\n",
    "        trainFeat = np.empty((numCh*5,0))\n",
    "        trainLabels = np.empty(0)\n",
    "        testFeat = np.empty((numCh*5,0))\n",
    "        testLabels = np.empty(0)\n",
    "        \n",
    "        testTrials = np.random.randint(0,numTrial,numGest)\n",
    "        for g in range(numGest):\n",
    "            for t in range(numTrial):\n",
    "                trial = base[g,t]\n",
    "                if t == testTrials[g]:\n",
    "                    feat = np.empty((0,numEx))\n",
    "                    for i in range(5):\n",
    "                        feat = np.concatenate((feat,trial[2][(holdStart+i):(holdEnd+i+1),:].T),axis=0)\n",
    "                    testFeat = np.concatenate((testFeat,feat),axis=1)\n",
    "                    testLabels = np.concatenate((testLabels,g*np.ones(numEx)))\n",
    "                else:\n",
    "                    feat = np.empty((0,numEx))\n",
    "                    for i in range(5):\n",
    "                        feat = np.concatenate((feat,trial[2][(holdStart+i):(holdEnd+i+1),:].T),axis=0)\n",
    "                    trainFeat = np.concatenate((trainFeat,feat),axis=1)\n",
    "                    trainLabels = np.concatenate((trainLabels,g*np.ones(numEx)))\n",
    "                    \n",
    "        testTrials = np.random.randint(0,numTrial,numGest)\n",
    "        for g in range(numGest):\n",
    "            for t in range(numTrial):\n",
    "                trial = new[g,t]\n",
    "                if t == testTrials[g]:\n",
    "                    feat = np.empty((0,numEx))\n",
    "                    for i in range(5):\n",
    "                        feat = np.concatenate((feat,trial[2][(holdStart+i):(holdEnd+i+1),:].T),axis=0)\n",
    "                    testFeat = np.concatenate((testFeat,feat),axis=1)\n",
    "                    testLabels = np.concatenate((testLabels,g*np.ones(numEx)))\n",
    "                else:\n",
    "                    feat = np.empty((0,numEx))\n",
    "                    for i in range(5):\n",
    "                        feat = np.concatenate((feat,trial[2][(holdStart+i):(holdEnd+i+1),:].T),axis=0)\n",
    "                    trainFeat = np.concatenate((trainFeat,feat),axis=1)\n",
    "                    trainLabels = np.concatenate((trainLabels,g*np.ones(numEx)))\n",
    "\n",
    "        # arrange data into a pandas dataframe for interface with sklearn\n",
    "        feat_cols = ['feature' + str(i) for i in range(trainFeat.shape[0])]\n",
    "        trainData = pd.DataFrame(trainFeat.T,columns=feat_cols)\n",
    "        trainData['gesture'] = trainLabels\n",
    "        testData = pd.DataFrame(testFeat.T,columns=feat_cols)\n",
    "        testData['gesture'] = testLabels\n",
    "\n",
    "        # collect feature and target variables\n",
    "        Xtrain = trainData.iloc[:,0:numCh*5]\n",
    "        ytrain = trainData.iloc[:,numCh*5]\n",
    "        \n",
    "        Xtest = testData.iloc[:,0:numCh*5]\n",
    "        ytest = testData.iloc[:,numCh*5]\n",
    "        \n",
    "        Xtrain = np.round(Xtrain.clip(0,64))\n",
    "        Xtest = np.round(Xtest.clip(0,64))\n",
    "        \n",
    "        # batch train and test SVM model\n",
    "        clf = svm.SVC(decision_function_shape='ovr',kernel='linear',C=10)\n",
    "        clf.fit(Xtrain,ytrain)\n",
    "        yhat = clf.predict(Xtest)\n",
    "        accSVM[s,n] = accuracy_score(yhat,ytest)\n",
    "        numSVM[s,n] = len(clf.support_)\n",
    "        acc = accSVM[s,np.nonzero(accSVM[s,:])].mean()\n",
    "        num = numSVM[s,np.nonzero(numSVM[s,:])].mean()\n",
    "        print('\\t Iteration %d: Accuracy = %f, # SV = %d\\r'%(n+1,acc,num),end=\"\")\n",
    "    print('')\n",
    "        \n",
    "#         # batch train and test LDA model\n",
    "#         clf = LinearDiscriminantAnalysis()\n",
    "#         clf.fit(Xtrain,ytrain)\n",
    "#         yhat = clf.predict(Xtest)\n",
    "#         print('\\t Iteration %d: Accuracy = %f\\r'%(n+1,accuracy_score(yhat,ytest)),end=\"\")\n",
    "# #         accSVM[s,n] = accuracy_score(yhat,ytest)\n",
    "# #         numSVM[s,n] = len(clf.support_)\n",
    "#         print('')"
   ]
  },
  {
   "cell_type": "code",
   "execution_count": 8,
   "metadata": {},
   "outputs": [
    {
     "data": {
      "text/plain": [
       "array([ 943.5,  797. , 1332. , 1163.5, 2065. ])"
      ]
     },
     "execution_count": 8,
     "metadata": {},
     "output_type": "execute_result"
    }
   ],
   "source": [
    "np.mean(numSVM,axis=1)"
   ]
  },
  {
   "cell_type": "code",
   "execution_count": 9,
   "metadata": {},
   "outputs": [
    {
     "data": {
      "text/plain": [
       "array([0.99663462, 0.99663462, 0.96778846, 0.9875    , 0.96923077])"
      ]
     },
     "execution_count": 9,
     "metadata": {},
     "output_type": "execute_result"
    }
   ],
   "source": [
    "np.mean(accSVM,axis=1)"
   ]
  },
  {
   "cell_type": "code",
   "execution_count": 10,
   "metadata": {},
   "outputs": [
    {
     "data": {
      "text/plain": [
       "1260.2"
      ]
     },
     "execution_count": 10,
     "metadata": {},
     "output_type": "execute_result"
    }
   ],
   "source": [
    "np.mean(numSVM)"
   ]
  },
  {
   "cell_type": "code",
   "execution_count": 11,
   "metadata": {},
   "outputs": [
    {
     "data": {
      "text/plain": [
       "0.9835576923076923"
      ]
     },
     "execution_count": 11,
     "metadata": {},
     "output_type": "execute_result"
    }
   ],
   "source": [
    "np.mean(accSVM)"
   ]
  },
  {
   "cell_type": "code",
   "execution_count": null,
   "metadata": {},
   "outputs": [],
   "source": []
  }
 ],
 "metadata": {
  "kernelspec": {
   "display_name": "hdc",
   "language": "python",
   "name": "hdc"
  },
  "language_info": {
   "codemirror_mode": {
    "name": "ipython",
    "version": 3
   },
   "file_extension": ".py",
   "mimetype": "text/x-python",
   "name": "python",
   "nbconvert_exporter": "python",
   "pygments_lexer": "ipython3",
   "version": "3.8.1"
  }
 },
 "nbformat": 4,
 "nbformat_minor": 2
}
