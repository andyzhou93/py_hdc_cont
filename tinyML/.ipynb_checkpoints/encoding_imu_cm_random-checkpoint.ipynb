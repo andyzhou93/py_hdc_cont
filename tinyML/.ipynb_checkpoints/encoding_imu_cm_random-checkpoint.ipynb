{
 "cells": [
  {
   "cell_type": "code",
   "execution_count": 1,
   "metadata": {},
   "outputs": [],
   "source": [
    "import numpy as np\n",
    "import h5py\n",
    "import pandas as pd\n",
    "from tqdm import tqdm\n",
    "\n",
    "from sklearn.metrics import accuracy_score\n",
    "from scipy.spatial.distance import cdist\n",
    "from sklearn.model_selection import StratifiedKFold\n",
    "\n",
    "import seaborn as sns\n",
    "import matplotlib.pyplot as plt\n",
    "sns.set_style('white')\n",
    "sns.set_context('poster')"
   ]
  },
  {
   "cell_type": "code",
   "execution_count": 2,
   "metadata": {},
   "outputs": [],
   "source": [
    "def bipolarize(Y):\n",
    "    X = np.copy(Y)\n",
    "    X[X > 0] = 1.0\n",
    "    X[X < 0] = -1.0\n",
    "    X[X == 0] = np.random.choice([-1.0, 1.0], size=len(X[X == 0]))\n",
    "    return X\n",
    "\n",
    "def centroids(X,label=None):\n",
    "    if label is not None:\n",
    "        cLabel = np.unique(label)\n",
    "        c = np.zeros((len(cLabel), X.shape[1]))\n",
    "        for i,l in enumerate(cLabel):\n",
    "            c[i,:] = bipolarize(np.sum(X[label==l],axis=0))\n",
    "    else:\n",
    "        c = bipolarize(np.sum(X,axis=0)).reshape(1,-1)\n",
    "        cLabel = [0]\n",
    "    return cLabel, c.astype('int')\n",
    "\n",
    "def classify(v,am,metric):\n",
    "    d = cdist(v,am,metric)\n",
    "    label = np.argmin(d,axis=1)\n",
    "    return label"
   ]
  },
  {
   "cell_type": "code",
   "execution_count": 3,
   "metadata": {},
   "outputs": [],
   "source": [
    "dataFile = 'data.mat'\n",
    "file = h5py.File(dataFile,'r')\n",
    "experimentData = file['experimentData']\n",
    "keys = list(experimentData.keys())\n",
    "numTrials, numPositions, numGestures = experimentData[keys[0]].shape\n",
    "D = file[experimentData[keys[3]][0,0,0]].shape[1]\n",
    "numEx = 80"
   ]
  },
  {
   "cell_type": "code",
   "execution_count": 4,
   "metadata": {},
   "outputs": [],
   "source": [
    "xQuant = 1\n",
    "yQuant = 4\n",
    "zQuant = 5\n",
    "NQuants = (xQuant, yQuant, zQuant)\n",
    "\n",
    "ims = []\n",
    "for i in range(3):\n",
    "    im = np.zeros((NQuants[i],D))\n",
    "    for x in range(NQuants[i]):\n",
    "        im[x,:] = np.random.choice([-1.0, 1.0], size=D)\n",
    "    ims.append(im)"
   ]
  },
  {
   "cell_type": "code",
   "execution_count": null,
   "metadata": {},
   "outputs": [
    {
     "name": "stderr",
     "output_type": "stream",
     "text": [
      " 85%|████████▍ | 11/13 [00:05<00:00,  2.10it/s]"
     ]
    }
   ],
   "source": [
    "totalEx = numEx*numGestures*numPositions*numTrials\n",
    "\n",
    "hv = np.zeros((totalEx,D),dtype=np.int8)\n",
    "gestLabel = np.zeros(totalEx,dtype='int')\n",
    "posLabel = np.zeros(totalEx,dtype='int')\n",
    "\n",
    "idx = np.arange(numEx).astype('int')\n",
    "for g in tqdm(range(numGestures)):\n",
    "    for p in range(numPositions):\n",
    "        for t in range(numTrials):\n",
    "            expLabel = file[experimentData['expGestLabel'][t,p,g]][0,:]\n",
    "            r = file[experimentData['emgHV'][t,p,g]][expLabel>0,:]\n",
    "            accFeat = file[experimentData['accFeat'][t,p,g]][:,expLabel>0].T\n",
    "            \n",
    "            accIdx = np.zeros(accFeat.shape,dtype='int')\n",
    "            for ax in range(3):\n",
    "                accIdx[:,ax] = np.floor((accFeat[:,ax] + 1)/2*(NQuants[ax])).astype('int')\n",
    "                accIdx[accIdx[:,ax] < 0,ax] = 0\n",
    "                accIdx[accIdx[:,ax] > NQuants[ax]-1,ax] = NQuants[ax]-1\n",
    "            \n",
    "            xHV = ims[0][accIdx[:,0]]\n",
    "            yHV = ims[1][accIdx[:,1]]\n",
    "            zHV = ims[2][accIdx[:,2]]\n",
    "            \n",
    "            hv[idx,:] = xHV*yHV*zHV\n",
    "\n",
    "            gestLabel[idx] = g\n",
    "            posLabel[idx] = p\n",
    "            idx += numEx"
   ]
  }
 ],
 "metadata": {
  "kernelspec": {
   "display_name": "Python 3",
   "language": "python",
   "name": "python3"
  },
  "language_info": {
   "codemirror_mode": {
    "name": "ipython",
    "version": 3
   },
   "file_extension": ".py",
   "mimetype": "text/x-python",
   "name": "python",
   "nbconvert_exporter": "python",
   "pygments_lexer": "ipython3",
   "version": "3.7.7"
  }
 },
 "nbformat": 4,
 "nbformat_minor": 4
}
