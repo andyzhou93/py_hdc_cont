{
 "cells": [
  {
   "cell_type": "code",
   "execution_count": 1,
   "metadata": {},
   "outputs": [],
   "source": [
    "import h5py\n",
    "import numpy as np\n",
    "import matplotlib.pyplot as plt\n",
    "\n",
    "from itertools import combinations\n",
    "from operator import itemgetter, attrgetter\n",
    "\n",
    "from scipy.spatial.distance import cdist\n",
    "\n",
    "from sklearn.discriminant_analysis import LinearDiscriminantAnalysis as LDA\n",
    "from sklearn.decomposition import PCA\n",
    "\n",
    "from sklearn.model_selection import StratifiedKFold\n",
    "\n",
    "from sklearn.neighbors import KNeighborsClassifier\n",
    "from sklearn.ensemble import RandomForestClassifier\n",
    "from sklearn.neural_network import MLPClassifier\n",
    "from sklearn.svm import SVC\n",
    "from xgboost import XGBClassifier\n",
    "\n",
    "from sklearn.metrics import pairwise_distances, accuracy_score\n",
    "from scipy.spatial.distance import cdist, pdist\n",
    "from sklearn.model_selection import StratifiedKFold\n",
    "\n",
    "import matplotlib.pyplot as plt\n",
    "import seaborn as sns\n",
    "from mpl_toolkits.mplot3d import Axes3D\n",
    "sns.set_context('poster')\n",
    "sns.set_style('white')\n",
    "\n",
    "from tqdm import tqdm"
   ]
  },
  {
   "cell_type": "code",
   "execution_count": 2,
   "metadata": {},
   "outputs": [],
   "source": [
    "dataFile = 'data.mat'"
   ]
  },
  {
   "cell_type": "code",
   "execution_count": 3,
   "metadata": {},
   "outputs": [],
   "source": [
    "file = h5py.File(dataFile,'r')\n",
    "experimentData = file['experimentData']\n",
    "keys = list(experimentData.keys())"
   ]
  },
  {
   "cell_type": "code",
   "execution_count": 4,
   "metadata": {},
   "outputs": [],
   "source": [
    "numTrials, numPositions, numGestures = experimentData[keys[0]].shape\n",
    "D = file[experimentData[keys[3]][0,0,0]].shape[1]\n",
    "numEx = 80\n",
    "\n",
    "# color palettes for plotting\n",
    "gPalette = sns.color_palette('tab20', numGestures)\n",
    "pPalette = sns.color_palette('tab20', numPositions)"
   ]
  },
  {
   "cell_type": "code",
   "execution_count": 5,
   "metadata": {},
   "outputs": [],
   "source": [
    "totalEx = numEx*numGestures*numPositions*numTrials\n",
    "accFeat = np.zeros((totalEx,3))\n",
    "gestLabel = np.zeros(totalEx)\n",
    "posLabel = np.zeros(totalEx)\n",
    "groupLabel = np.zeros(totalEx)\n",
    "idx = np.arange(numEx).astype('int')\n",
    "for g in range(numGestures):\n",
    "    for p in range(numPositions):\n",
    "        for t in range(numTrials):\n",
    "            expLabel = file[experimentData['expGestLabel'][t,p,g]][0,:]\n",
    "            accFeat[idx,:] = file[experimentData['accFeat'][t,p,g]][:,expLabel>0].T\n",
    "            gestLabel[idx] = g\n",
    "            posLabel[idx] = p\n",
    "            groupLabel[idx] = g + p*numGestures\n",
    "            idx += numEx\n",
    "            \n",
    "lda = LDA(n_components=3)\n",
    "accLDA = lda.fit_transform(accFeat,posLabel)\n",
    "\n",
    "pca = PCA(n_components=3)\n",
    "accPCA = pca.fit_transform(accFeat)"
   ]
  },
  {
   "cell_type": "code",
   "execution_count": 37,
   "metadata": {},
   "outputs": [
    {
     "name": "stdout",
     "output_type": "stream",
     "text": [
      "0.997275641025641 49.33333333333333\n"
     ]
    }
   ],
   "source": [
    "numSplit = 3\n",
    "skf = StratifiedKFold(n_splits=numSplit)\n",
    "\n",
    "knnAcc = 0\n",
    "rfAcc = 0\n",
    "mlpAcc = 0\n",
    "svmAcc = 0\n",
    "xgbAcc = 0\n",
    "num = 0\n",
    "\n",
    "for trainIdx, testIdx in skf.split(accFeat,groupLabel):\n",
    "    X_train, X_test = accFeat[trainIdx], accFeat[testIdx]\n",
    "    y_train, y_test = posLabel[trainIdx], posLabel[testIdx]\n",
    "\n",
    "#     knn = KNeighborsClassifier()\n",
    "#     knn.fit(X_train, y_train)\n",
    "#     knnAcc += (knn.score(X_test, y_test))/numSplit\n",
    "\n",
    "#     rf = RandomForestClassifier()\n",
    "#     rf.fit(X_train, y_train)\n",
    "#     rfAcc += (rf.score(X_test, y_test))/numSplit\n",
    "\n",
    "#     mlp = MLPClassifier()\n",
    "#     mlp.fit(X_train, y_train)\n",
    "#     mlpAcc += (mlp.score(X_test, y_test))/numSplit\n",
    "\n",
    "    svm = SVC(decision_function_shape='ovr',kernel='linear',C=1e20)\n",
    "    svm.fit(X_train, y_train)\n",
    "    svmAcc += (svm.score(X_test, y_test))/numSplit\n",
    "\n",
    "#     svm = SVC(decision_function_shape='ovr',kernel='linear',C=1e20)\n",
    "#     svm.fit(X_test, y_test)\n",
    "#     svmAcc += (svm.score(X_train, y_train))/numSplit\n",
    "    \n",
    "    num += len(svm.support_)/numSplit\n",
    "    \n",
    "print(svmAcc,num)\n",
    "\n",
    "#     xgb = XGBClassifier()\n",
    "#     xgb.fit(X_train, y_train)\n",
    "#     xgbAcc += (xgb.score(X_test, y_test))/numSplit\n",
    "\n",
    "# print('K-Nearest Neighbors: %.2f%%' % (100*knnAcc))\n",
    "# print('Random Forest: %.2f%%' % (100*rfAcc))\n",
    "# print('Multi Layer Perceptron: %.2f%%' % (100*mlpAcc))\n",
    "#     print('Support Vector Machine: %.2f%%' % (100*svmAcc))\n",
    "# print('XGBoost: %.2f%%' % (100*xgbAcc))"
   ]
  },
  {
   "cell_type": "code",
   "execution_count": null,
   "metadata": {},
   "outputs": [],
   "source": []
  }
 ],
 "metadata": {
  "kernelspec": {
   "display_name": "Python 3",
   "language": "python",
   "name": "python3"
  },
  "language_info": {
   "codemirror_mode": {
    "name": "ipython",
    "version": 3
   },
   "file_extension": ".py",
   "mimetype": "text/x-python",
   "name": "python",
   "nbconvert_exporter": "python",
   "pygments_lexer": "ipython3",
   "version": "3.7.7"
  }
 },
 "nbformat": 4,
 "nbformat_minor": 4
}
