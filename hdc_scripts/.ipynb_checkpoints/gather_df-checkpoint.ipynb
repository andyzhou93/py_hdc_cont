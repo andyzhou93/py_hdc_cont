{
 "cells": [
  {
   "cell_type": "code",
   "execution_count": 1,
   "metadata": {},
   "outputs": [],
   "source": [
    "import scipy.io as sio\n",
    "import numpy as np\n",
    "import pandas as pd"
   ]
  },
  {
   "cell_type": "code",
   "execution_count": 2,
   "metadata": {},
   "outputs": [
    {
     "name": "stdout",
     "output_type": "stream",
     "text": [
      "Gathering data for Subject 1\n",
      "Gathering data for Subject 2\n",
      "Gathering data for Subject 3\n",
      "Gathering data for Subject 4\n",
      "Gathering data for Subject 5\n"
     ]
    }
   ],
   "source": [
    "# location of all offline data\n",
    "dataDir = '../emg_mat/offline/'\n",
    "\n",
    "# choose experiments for base and new context\n",
    "baseExperiment = 1\n",
    "newExperiment = 3\n",
    "\n",
    "# segment only the hold portions of data\n",
    "holdStart = 70\n",
    "holdEnd = 149\n",
    "numEx = holdEnd - holdStart + 1\n",
    "\n",
    "# hypervector and feature dimensions\n",
    "D = 10000\n",
    "numFeat = 320\n",
    "\n",
    "# subject labels are 1-indexed\n",
    "for s in range(5):\n",
    "    subject = s + 1\n",
    "    print('Gathering data for Subject ' + str(subject))\n",
    "\n",
    "    # load data from the two contexts\n",
    "    filename = dataDir + 'S' + str(subject) + 'E' + str(baseExperiment) + '.mat'\n",
    "    base = sio.loadmat(filename)['emgHD']\n",
    "    filename = dataDir + 'S' + str(subject) + 'E' + str(newExperiment) + '.mat'\n",
    "    new = sio.loadmat(filename)['emgHD']\n",
    "\n",
    "    # get metatdata\n",
    "    numGest, numTrial = base.shape\n",
    "    numCh = base[0,0][2].shape[1]\n",
    "\n",
    "    # collect all data and as single dataframe\n",
    "    features = np.empty((numCh*5,0))\n",
    "    ngrams = np.empty((D,0))\n",
    "    labels = np.empty(0)\n",
    "    trials = np.empty(0)\n",
    "    context = np.empty(0)\n",
    "\n",
    "    # collect baseline data\n",
    "    for g in range(numGest):\n",
    "        for t in range(numTrial):\n",
    "            trial = base[g,t]\n",
    "            feat = np.empty((0,numEx))\n",
    "            for i in range(5):\n",
    "                feat = np.concatenate((feat,trial[2][(holdStart+i):(holdEnd+i+1),:].T),axis=0)\n",
    "            features = np.concatenate((features,feat),axis=1)\n",
    "            ngrams = np.concatenate((ngrams,trial[3][:,holdStart:holdEnd+1]),axis=1)\n",
    "            labels = np.concatenate((labels,g*np.ones(numEx)))\n",
    "            trials = np.concatenate((trials,t*np.ones(numEx)))\n",
    "            context = np.concatenate((context,0*np.ones(numEx)))\n",
    "\n",
    "    # collect new data\n",
    "    for g in range(numGest):\n",
    "        for t in range(numTrial):\n",
    "            trial = new[g,t]\n",
    "            feat = np.empty((0,numEx))\n",
    "            for i in range(5):\n",
    "                feat = np.concatenate((feat,trial[2][(holdStart+i):(holdEnd+i+1),:].T),axis=0)\n",
    "            features = np.concatenate((features,feat),axis=1)\n",
    "            ngrams = np.concatenate((ngrams,trial[3][:,holdStart:holdEnd+1]),axis=1)\n",
    "            labels = np.concatenate((labels,g*np.ones(numEx)))\n",
    "            trials = np.concatenate((trials,t*np.ones(numEx)))\n",
    "            context = np.concatenate((context,1*np.ones(numEx)))\n",
    "\n",
    "    # create dataframe for features\n",
    "    featCols = ['feature' + str(i) for i in range(features.shape[0])]\n",
    "    featData = pd.DataFrame(features.T,columns=featCols)\n",
    "    featData['gesture'] = labels\n",
    "    featData['trial'] = trials\n",
    "    featData['context'] = context\n",
    "\n",
    "    # create dataframe for ngrams\n",
    "    ngramCols = ['hv' + str(i) for i in range(ngrams.shape[0])]\n",
    "    ngramData = pd.DataFrame(ngrams.T,columns=ngramCols)\n",
    "    ngramData['gesture'] = labels\n",
    "    ngramData['trial'] = trials\n",
    "    ngramData['context'] = context\n",
    "    \n",
    "    ngramData.to_feather('S' + str(subject) + '_ngram.df')\n",
    "    featData.to_feather('S' + str(subject) + '_feature.df')\n"
   ]
  }
 ],
 "metadata": {
  "kernelspec": {
   "display_name": "Python 3",
   "language": "python",
   "name": "python3"
  },
  "language_info": {
   "codemirror_mode": {
    "name": "ipython",
    "version": 3
   },
   "file_extension": ".py",
   "mimetype": "text/x-python",
   "name": "python",
   "nbconvert_exporter": "python",
   "pygments_lexer": "ipython3",
   "version": "3.7.7"
  }
 },
 "nbformat": 4,
 "nbformat_minor": 4
}
