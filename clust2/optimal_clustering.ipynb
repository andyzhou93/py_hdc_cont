{
 "cells": [
  {
   "cell_type": "code",
   "execution_count": 1,
   "metadata": {},
   "outputs": [],
   "source": [
    "import numpy as np\n",
    "import pickle\n",
    "\n",
    "from sklearn.model_selection import StratifiedKFold\n",
    "from sklearn.metrics import accuracy_score\n",
    "from scipy.spatial.distance import cdist, pdist\n",
    "\n",
    "import seaborn as sns\n",
    "import matplotlib.pyplot as plt"
   ]
  },
  {
   "cell_type": "code",
   "execution_count": 2,
   "metadata": {},
   "outputs": [],
   "source": [
    "### loading data\n",
    "# select dataset and encoding type\n",
    "dataName = 'allHV.npz'\n",
    "emgHVType =  'hvRel'\n",
    "\n",
    "allHV = np.load(dataName)\n",
    "\n",
    "# extract data and labels based on gesture, trial, and position\n",
    "hv = allHV[emgHVType]\n",
    "gestLabel = allHV['gestLabel']\n",
    "posLabel = allHV['posLabel']\n",
    "trialLabel = allHV['trialLabel']\n",
    "\n",
    "combGP, groupGP = np.unique(np.column_stack((gestLabel,posLabel)),axis=0,return_inverse=True)\n",
    "combGPT, groupGPT = np.unique(np.column_stack((gestLabel,posLabel,trialLabel)),axis=0,return_inverse=True)\n",
    "\n",
    "# get list of unique values for each label\n",
    "gestures = np.unique(gestLabel)\n",
    "positions = np.unique(posLabel)\n",
    "trials = np.unique(trialLabel)\n",
    "\n",
    "numGestures = len(gestures)\n",
    "numPositions = len(positions)\n",
    "numTrials = len(trials)\n",
    "\n",
    "# get data size info\n",
    "D = hv.shape[1] # hypervector dimension\n",
    "numHV = 80 # number of examples per trial"
   ]
  },
  {
   "cell_type": "code",
   "execution_count": 3,
   "metadata": {},
   "outputs": [],
   "source": [
    "maxClust = 30\n",
    "clustering = []\n",
    "for g in gestures:\n",
    "    with open('./clustOut/g' + str(g) + '_clusters.pickle','rb') as f:\n",
    "        cSingles = pickle.load(f)\n",
    "        cNonSingles = {}\n",
    "        idx = 1\n",
    "        for n in range(1,maxClust+1):\n",
    "            while sum(np.unique(cSingles[idx],return_counts=True)[1] > 1) < n:\n",
    "                idx += 1\n",
    "            cNonSingles[n] = cSingles[idx]\n",
    "        clustering.append(cNonSingles)"
   ]
  },
  {
   "cell_type": "code",
   "execution_count": 4,
   "metadata": {},
   "outputs": [],
   "source": [
    "def bipolarize(Y):\n",
    "    X = np.copy(Y)\n",
    "    X[X > 0] = 1.0\n",
    "    X[X < 0] = -1.0\n",
    "    X[X == 0] = np.random.choice([-1.0, 1.0], size=len(X[X == 0]))\n",
    "    return X"
   ]
  },
  {
   "cell_type": "code",
   "execution_count": 5,
   "metadata": {},
   "outputs": [],
   "source": [
    "# def centroids(X,label=None):\n",
    "#     if label is not None:\n",
    "#         cLabel = np.unique(label)\n",
    "#         c = np.zeros((len(cLabel), X.shape[1]))\n",
    "#         for i,l in enumerate(cLabel):\n",
    "#             c[i,:] = bipolarize(np.sum(X[label==l],axis=0))\n",
    "#     else:\n",
    "#         c = bipolarize(np.sum(X,axis=0)).reshape(1,-1)\n",
    "#         cLabel = [0]\n",
    "#     return cLabel, c.astype('int')\n",
    "\n",
    "def centroids(X,label=None):\n",
    "    if label is not None:\n",
    "        cLabel,cCounts = np.unique(label,return_counts=True)\n",
    "        cLabel = cLabel[cCounts > 1]\n",
    "        c = np.zeros((len(cLabel), X.shape[1]))\n",
    "        for i,l in enumerate(cLabel):\n",
    "            c[i,:] = bipolarize(np.sum(X[label==l],axis=0))\n",
    "    else:\n",
    "        c = bipolarize(np.sum(X,axis=0)).reshape(1,-1)\n",
    "        cLabel = [0]\n",
    "    return cLabel, c.astype('int')"
   ]
  },
  {
   "cell_type": "code",
   "execution_count": 6,
   "metadata": {},
   "outputs": [],
   "source": [
    "def classify(v,am,metric):\n",
    "    d = cdist(v,am,metric)\n",
    "    label = np.argmin(d,axis=1)\n",
    "    return label"
   ]
  },
  {
   "cell_type": "code",
   "execution_count": 7,
   "metadata": {},
   "outputs": [],
   "source": [
    "def test_clustering(X,y,grp,clust,numClust,numSplit=10):\n",
    "    c = np.hstack([clust[l][numClust[l]] for l in np.unique(y)])\n",
    "    skf = StratifiedKFold(n_splits=numSplit)\n",
    "    splitIdx = 0\n",
    "    acc = np.zeros(numSplit)\n",
    "    for trainIdx, testIdx in skf.split(X,grp):\n",
    "#         print('Running iteration %d of %d...' % (splitIdx+1, numSplit))\n",
    "        XTrain, XTest = X[trainIdx], X[testIdx]\n",
    "        yTrain, yTest = y[trainIdx], y[testIdx]\n",
    "        cTrain, cTest = c[trainIdx], c[testIdx]\n",
    "        \n",
    "        AM = []\n",
    "        AMlabels = []\n",
    "        for l in np.unique(yTrain):\n",
    "            AM.append(centroids(XTrain[yTrain == l],label=cTrain[yTrain == l])[1])\n",
    "            AMlabels.append(l*np.ones(len(np.unique(cTrain[yTrain == l]))))\n",
    "        AM = np.vstack(AM)\n",
    "        AMlabels = np.hstack(AMlabels)\n",
    "        \n",
    "        pred = AMlabels[classify(XTest,AM,'hamming')]\n",
    "        acc[splitIdx] = accuracy_score(pred,yTest)\n",
    "\n",
    "        splitIdx += 1\n",
    "        \n",
    "    return np.mean(acc)"
   ]
  },
  {
   "cell_type": "code",
   "execution_count": 8,
   "metadata": {},
   "outputs": [],
   "source": [
    "# numClust = np.ones(numGestures).astype('int')\n",
    "# maxClust = numGestures*numPositions*2\n",
    "# res = {}\n",
    "\n",
    "# res[sum(numClust)] = (numClust, test_clustering(hv,gestLabel,groupGP,clustering,numClust))\n",
    "# print(res[sum(numClust)])\n",
    "# while sum(numClust) < maxClust:\n",
    "#     bestAcc = 0\n",
    "#     bestClust = []\n",
    "#     for g in gestures:\n",
    "#         testClust = np.copy(numClust)\n",
    "#         testClust[g] += 1\n",
    "#         acc = test_clustering(hv,gestLabel,groupGP,clustering,testClust)\n",
    "#         print('\\tAdding cluster to gesture %d: %f' % (g, acc))\n",
    "#         if acc > bestAcc:\n",
    "#             bestAcc = acc\n",
    "#             bestClust = testClust\n",
    "#     numClust = np.copy(bestClust)\n",
    "#     res[sum(numClust)] = (numClust, bestAcc)\n",
    "#     print(res[sum(numClust)])"
   ]
  },
  {
   "cell_type": "code",
   "execution_count": 9,
   "metadata": {},
   "outputs": [
    {
     "ename": "KeyboardInterrupt",
     "evalue": "",
     "output_type": "error",
     "traceback": [
      "\u001b[0;31m---------------------------------------------------------------------------\u001b[0m",
      "\u001b[0;31mKeyboardInterrupt\u001b[0m                         Traceback (most recent call last)",
      "\u001b[0;32m<timed eval>\u001b[0m in \u001b[0;36m<module>\u001b[0;34m\u001b[0m\n",
      "\u001b[0;32m<ipython-input-7-bc784f0bfb67>\u001b[0m in \u001b[0;36mtest_clustering\u001b[0;34m(X, y, grp, clust, numClust, numSplit)\u001b[0m\n\u001b[1;32m     18\u001b[0m         \u001b[0mAMlabels\u001b[0m \u001b[0;34m=\u001b[0m \u001b[0mnp\u001b[0m\u001b[0;34m.\u001b[0m\u001b[0mhstack\u001b[0m\u001b[0;34m(\u001b[0m\u001b[0mAMlabels\u001b[0m\u001b[0;34m)\u001b[0m\u001b[0;34m\u001b[0m\u001b[0;34m\u001b[0m\u001b[0m\n\u001b[1;32m     19\u001b[0m \u001b[0;34m\u001b[0m\u001b[0m\n\u001b[0;32m---> 20\u001b[0;31m         \u001b[0mpred\u001b[0m \u001b[0;34m=\u001b[0m \u001b[0mAMlabels\u001b[0m\u001b[0;34m[\u001b[0m\u001b[0mclassify\u001b[0m\u001b[0;34m(\u001b[0m\u001b[0mXTest\u001b[0m\u001b[0;34m,\u001b[0m\u001b[0mAM\u001b[0m\u001b[0;34m,\u001b[0m\u001b[0;34m'hamming'\u001b[0m\u001b[0;34m)\u001b[0m\u001b[0;34m]\u001b[0m\u001b[0;34m\u001b[0m\u001b[0;34m\u001b[0m\u001b[0m\n\u001b[0m\u001b[1;32m     21\u001b[0m         \u001b[0macc\u001b[0m\u001b[0;34m[\u001b[0m\u001b[0msplitIdx\u001b[0m\u001b[0;34m]\u001b[0m \u001b[0;34m=\u001b[0m \u001b[0maccuracy_score\u001b[0m\u001b[0;34m(\u001b[0m\u001b[0mpred\u001b[0m\u001b[0;34m,\u001b[0m\u001b[0myTest\u001b[0m\u001b[0;34m)\u001b[0m\u001b[0;34m\u001b[0m\u001b[0;34m\u001b[0m\u001b[0m\n\u001b[1;32m     22\u001b[0m \u001b[0;34m\u001b[0m\u001b[0m\n",
      "\u001b[0;32m<ipython-input-6-3cdd9c7a5dfa>\u001b[0m in \u001b[0;36mclassify\u001b[0;34m(v, am, metric)\u001b[0m\n\u001b[1;32m      1\u001b[0m \u001b[0;32mdef\u001b[0m \u001b[0mclassify\u001b[0m\u001b[0;34m(\u001b[0m\u001b[0mv\u001b[0m\u001b[0;34m,\u001b[0m\u001b[0mam\u001b[0m\u001b[0;34m,\u001b[0m\u001b[0mmetric\u001b[0m\u001b[0;34m)\u001b[0m\u001b[0;34m:\u001b[0m\u001b[0;34m\u001b[0m\u001b[0;34m\u001b[0m\u001b[0m\n\u001b[0;32m----> 2\u001b[0;31m     \u001b[0md\u001b[0m \u001b[0;34m=\u001b[0m \u001b[0mcdist\u001b[0m\u001b[0;34m(\u001b[0m\u001b[0mv\u001b[0m\u001b[0;34m,\u001b[0m\u001b[0mam\u001b[0m\u001b[0;34m,\u001b[0m\u001b[0mmetric\u001b[0m\u001b[0;34m)\u001b[0m\u001b[0;34m\u001b[0m\u001b[0;34m\u001b[0m\u001b[0m\n\u001b[0m\u001b[1;32m      3\u001b[0m     \u001b[0mlabel\u001b[0m \u001b[0;34m=\u001b[0m \u001b[0mnp\u001b[0m\u001b[0;34m.\u001b[0m\u001b[0margmin\u001b[0m\u001b[0;34m(\u001b[0m\u001b[0md\u001b[0m\u001b[0;34m,\u001b[0m\u001b[0maxis\u001b[0m\u001b[0;34m=\u001b[0m\u001b[0;36m1\u001b[0m\u001b[0;34m)\u001b[0m\u001b[0;34m\u001b[0m\u001b[0;34m\u001b[0m\u001b[0m\n\u001b[1;32m      4\u001b[0m     \u001b[0;32mreturn\u001b[0m \u001b[0mlabel\u001b[0m\u001b[0;34m\u001b[0m\u001b[0;34m\u001b[0m\u001b[0m\n",
      "\u001b[0;32m~/opt/anaconda3/envs/hdcpar/lib/python3.7/site-packages/scipy/spatial/distance.py\u001b[0m in \u001b[0;36mcdist\u001b[0;34m(XA, XB, metric, *args, **kwargs)\u001b[0m\n\u001b[1;32m   2778\u001b[0m             cdist_fn = getattr(_distance_wrap,\n\u001b[1;32m   2779\u001b[0m                                \"cdist_%s_%s_wrap\" % (metric_name, typ))\n\u001b[0;32m-> 2780\u001b[0;31m             \u001b[0mcdist_fn\u001b[0m\u001b[0;34m(\u001b[0m\u001b[0mXA\u001b[0m\u001b[0;34m,\u001b[0m \u001b[0mXB\u001b[0m\u001b[0;34m,\u001b[0m \u001b[0mdm\u001b[0m\u001b[0;34m,\u001b[0m \u001b[0;34m**\u001b[0m\u001b[0mkwargs\u001b[0m\u001b[0;34m)\u001b[0m\u001b[0;34m\u001b[0m\u001b[0;34m\u001b[0m\u001b[0m\n\u001b[0m\u001b[1;32m   2781\u001b[0m             \u001b[0;32mreturn\u001b[0m \u001b[0mdm\u001b[0m\u001b[0;34m\u001b[0m\u001b[0;34m\u001b[0m\u001b[0m\n\u001b[1;32m   2782\u001b[0m \u001b[0;34m\u001b[0m\u001b[0m\n",
      "\u001b[0;31mKeyboardInterrupt\u001b[0m: "
     ]
    }
   ],
   "source": [
    "%%time\n",
    "test_clustering(hv,gestLabel,groupGP,clustering,np.ones(numGestures).astype('int')*16)"
   ]
  },
  {
   "cell_type": "code",
   "execution_count": null,
   "metadata": {},
   "outputs": [],
   "source": []
  }
 ],
 "metadata": {
  "kernelspec": {
   "display_name": "Python 3",
   "language": "python",
   "name": "python3"
  },
  "language_info": {
   "codemirror_mode": {
    "name": "ipython",
    "version": 3
   },
   "file_extension": ".py",
   "mimetype": "text/x-python",
   "name": "python",
   "nbconvert_exporter": "python",
   "pygments_lexer": "ipython3",
   "version": "3.7.7"
  }
 },
 "nbformat": 4,
 "nbformat_minor": 4
}
