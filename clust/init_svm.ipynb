{
 "cells": [
  {
   "cell_type": "code",
   "execution_count": 1,
   "metadata": {},
   "outputs": [],
   "source": [
    "import numpy as np\n",
    "\n",
    "from sklearn.metrics import pairwise_distances, accuracy_score\n",
    "from scipy.spatial.distance import cdist, pdist\n",
    "from sklearn.svm import LinearSVC, SVC\n",
    "from sklearn.model_selection import StratifiedKFold\n",
    "\n",
    "import matplotlib.pyplot as plt\n",
    "import seaborn as sns\n",
    "\n",
    "from sklearn_lvq import GlvqModel\n",
    "\n",
    "import umap\n",
    "import time\n",
    "\n",
    "import pandas as pd"
   ]
  },
  {
   "cell_type": "code",
   "execution_count": 2,
   "metadata": {},
   "outputs": [],
   "source": [
    "# select dataset and encoding type\n",
    "dataName = 'allHV.npz'\n",
    "emgHVType =  'hvRel'\n",
    "\n",
    "allHV = np.load(dataName)\n",
    "\n",
    "# extract data and labels based on gesture, trial, and position\n",
    "hv = allHV[emgHVType]\n",
    "gestLabel = allHV['gestLabel']\n",
    "posLabel = allHV['posLabel']\n",
    "trialLabel = allHV['trialLabel']\n",
    "\n",
    "# get list of unique values for each label\n",
    "gestures = np.unique(gestLabel)\n",
    "positions = np.unique(posLabel)\n",
    "trials = np.unique(trialLabel)\n",
    "\n",
    "numGestures = len(gestures)\n",
    "numPositions = len(positions)\n",
    "numTrials = len(trials)\n",
    "\n",
    "# get data size info\n",
    "D = hv.shape[1] # hypervector dimension\n",
    "numHV = 80 # number of examples per trial\n",
    "\n",
    "# color palettes for plotting\n",
    "gPalette = sns.color_palette('tab20', numGestures)\n",
    "pPalette = sns.color_palette('tab20', numPositions)"
   ]
  },
  {
   "cell_type": "code",
   "execution_count": 3,
   "metadata": {},
   "outputs": [],
   "source": [
    "def bipolarize(Y):\n",
    "    X = np.copy(Y)\n",
    "    X[X > 0] = 1.0\n",
    "    X[X < 0] = -1.0\n",
    "    X[X == 0] = np.random.choice([-1.0, 1.0], size=len(X[X == 0]))\n",
    "    return X"
   ]
  },
  {
   "cell_type": "code",
   "execution_count": 4,
   "metadata": {},
   "outputs": [],
   "source": [
    "def centroids(X,label=None):\n",
    "    if label is not None:\n",
    "        c = np.zeros((len(np.unique(label)), X.shape[1]))\n",
    "        for i,l in enumerate(np.unique(label)):\n",
    "            c[i,:] = bipolarize(np.sum(X[label==l],axis=0))\n",
    "    else:\n",
    "        c = bipolarize(np.sum(X,axis=0)).reshape(1,-1)\n",
    "    return c"
   ]
  },
  {
   "cell_type": "code",
   "execution_count": 5,
   "metadata": {},
   "outputs": [],
   "source": [
    "def mean_centroids(X,label=None):\n",
    "    if label is not None:\n",
    "        c = np.zeros((len(np.unique(label)), X.shape[1]))\n",
    "        for i,l in enumerate(np.unique(label)):\n",
    "            c[i,:] = np.mean(X[label==l],axis=0)\n",
    "    else:\n",
    "        c = np.mean(X,axis=0).reshape(1,-1)\n",
    "    return c"
   ]
  },
  {
   "cell_type": "code",
   "execution_count": 6,
   "metadata": {},
   "outputs": [],
   "source": [
    "def classify(v,am,metric):\n",
    "    d = cdist(v,am,metric)\n",
    "    label = np.argmin(d,axis=1)\n",
    "    return label"
   ]
  },
  {
   "cell_type": "code",
   "execution_count": 7,
   "metadata": {},
   "outputs": [
    {
     "name": "stdout",
     "output_type": "stream",
     "text": [
      "[LibSVM][LibSVM][LibSVM][LibSVM][LibSVM][LibSVM][LibSVM][LibSVM][LibSVM][LibSVM]"
     ]
    }
   ],
   "source": [
    "X = np.copy(hv)\n",
    "_, groups = np.unique(np.column_stack((gestLabel,posLabel)),axis=0,return_inverse=True)\n",
    "nSplit = 10\n",
    "skf = StratifiedKFold(n_splits=nSplit)\n",
    "acc = []\n",
    "sup = []\n",
    "trIdx = []\n",
    "tsIdx = []\n",
    "for train_idx, test_idx in skf.split(X,groups):\n",
    "    X_train, X_test = X[train_idx], X[test_idx]\n",
    "    y_train, y_test = gestLabel[train_idx], gestLabel[test_idx]\n",
    "    \n",
    "#     cl = LinearSVC(penalty='l2',\n",
    "#                    loss='squared_hinge',\n",
    "#                    dual=False,\n",
    "#                    tol=1e-4,\n",
    "#                    C=1.0,\n",
    "#                    multi_class='ovr',\n",
    "#                    fit_intercept=True,\n",
    "#                    intercept_scaling=1,\n",
    "#                    class_weight=None,\n",
    "#                    verbose=1,\n",
    "#                    random_state=None,\n",
    "#                    max_iter=1000).fit(X_train,y_train)\n",
    "\n",
    "    cl = SVC(C=1.0,\n",
    "             kernel='linear',\n",
    "             degree=3,\n",
    "             gamma='auto',\n",
    "             coef0=0.0,\n",
    "             shrinking=True,\n",
    "             probability=False,\n",
    "             tol=1e-4,\n",
    "             cache_size=200,\n",
    "             class_weight=None,\n",
    "             verbose=10,\n",
    "             max_iter=-1,\n",
    "             decision_function_shape='ovo',\n",
    "             break_ties=False,\n",
    "             random_state=None).fit(X_train,y_train)\n",
    "    \n",
    "    acc.append(cl.score(X_test,y_test))\n",
    "    sup.append(cl.support_)\n",
    "    trIdx.append(train_idx)\n",
    "    tsIdx.append(test_idx)\n",
    "    \n"
   ]
  },
  {
   "cell_type": "code",
   "execution_count": 18,
   "metadata": {},
   "outputs": [],
   "source": [
    "res = {'acc':acc, 'sup':sup,'trIdx':trIdx,'tsIdx':tsIdx}"
   ]
  },
  {
   "cell_type": "code",
   "execution_count": 19,
   "metadata": {},
   "outputs": [
    {
     "data": {
      "text/plain": [
       "{'acc': [0.9903846153846154,\n",
       "  0.9971955128205128,\n",
       "  0.999198717948718,\n",
       "  0.9859775641025641,\n",
       "  0.999198717948718,\n",
       "  0.9979967948717948,\n",
       "  0.9947916666666666,\n",
       "  0.9971955128205128,\n",
       "  0.9971955128205128,\n",
       "  0.9951923076923077],\n",
       " 'sup': [array([   13,    16,    32, ..., 22461, 22462, 22463], dtype=int32),\n",
       "  array([    0,     2,    10, ..., 22461, 22462, 22463], dtype=int32),\n",
       "  array([    0,     2,    10, ..., 22461, 22462, 22463], dtype=int32),\n",
       "  array([    0,     2,    10, ..., 22461, 22462, 22463], dtype=int32),\n",
       "  array([    0,     2,    10, ..., 22461, 22462, 22463], dtype=int32),\n",
       "  array([    0,     2,    10, ..., 22461, 22462, 22463], dtype=int32),\n",
       "  array([    0,     2,    10, ..., 22461, 22462, 22463], dtype=int32),\n",
       "  array([    0,     2,    10, ..., 22461, 22462, 22463], dtype=int32),\n",
       "  array([    0,     2,    10, ..., 22461, 22462, 22463], dtype=int32),\n",
       "  array([    0,     2,    10, ..., 22451, 22452, 22457], dtype=int32)],\n",
       " 'trIdx': [array([   24,    25,    26, ..., 24957, 24958, 24959]),\n",
       "  array([    0,     1,     2, ..., 24957, 24958, 24959]),\n",
       "  array([    0,     1,     2, ..., 24957, 24958, 24959]),\n",
       "  array([    0,     1,     2, ..., 24957, 24958, 24959]),\n",
       "  array([    0,     1,     2, ..., 24957, 24958, 24959]),\n",
       "  array([    0,     1,     2, ..., 24957, 24958, 24959]),\n",
       "  array([    0,     1,     2, ..., 24957, 24958, 24959]),\n",
       "  array([    0,     1,     2, ..., 24957, 24958, 24959]),\n",
       "  array([    0,     1,     2, ..., 24957, 24958, 24959]),\n",
       "  array([    0,     1,     2, ..., 24933, 24934, 24935])],\n",
       " 'tsIdx': [array([    0,     1,     2, ..., 24741, 24742, 24743]),\n",
       "  array([   24,    25,    26, ..., 24765, 24766, 24767]),\n",
       "  array([   48,    49,    50, ..., 24789, 24790, 24791]),\n",
       "  array([   72,    73,    74, ..., 24813, 24814, 24815]),\n",
       "  array([   96,    97,    98, ..., 24837, 24838, 24839]),\n",
       "  array([  120,   121,   122, ..., 24861, 24862, 24863]),\n",
       "  array([  144,   145,   146, ..., 24885, 24886, 24887]),\n",
       "  array([  168,   169,   170, ..., 24909, 24910, 24911]),\n",
       "  array([  192,   193,   194, ..., 24933, 24934, 24935]),\n",
       "  array([  216,   217,   218, ..., 24957, 24958, 24959])]}"
      ]
     },
     "execution_count": 19,
     "metadata": {},
     "output_type": "execute_result"
    }
   ],
   "source": [
    "res"
   ]
  },
  {
   "cell_type": "code",
   "execution_count": 21,
   "metadata": {},
   "outputs": [],
   "source": [
    "import pickle\n",
    "with open('./svm_res.pickle','wb') as f:\n",
    "    pickle.dump(res,f,pickle.HIGHEST_PROTOCOL)"
   ]
  },
  {
   "cell_type": "code",
   "execution_count": 22,
   "metadata": {},
   "outputs": [],
   "source": [
    "with open('./svm_res.pickle','rb') as f:\n",
    "    test = pickle.load(f)"
   ]
  }
 ],
 "metadata": {
  "kernelspec": {
   "display_name": "Python 3",
   "language": "python",
   "name": "python3"
  },
  "language_info": {
   "codemirror_mode": {
    "name": "ipython",
    "version": 3
   },
   "file_extension": ".py",
   "mimetype": "text/x-python",
   "name": "python",
   "nbconvert_exporter": "python",
   "pygments_lexer": "ipython3",
   "version": "3.7.7"
  }
 },
 "nbformat": 4,
 "nbformat_minor": 4
}
