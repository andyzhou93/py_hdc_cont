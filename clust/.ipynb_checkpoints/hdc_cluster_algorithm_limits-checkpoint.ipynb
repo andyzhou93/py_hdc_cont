{
 "cells": [
  {
   "cell_type": "code",
   "execution_count": 47,
   "metadata": {},
   "outputs": [],
   "source": [
    "import numpy as np\n",
    "from scipy.spatial.distance import cdist\n",
    "from sklearn.metrics import pairwise_distances\n",
    "\n",
    "import matplotlib.pyplot as plt\n",
    "import seaborn as sns"
   ]
  },
  {
   "cell_type": "code",
   "execution_count": 25,
   "metadata": {},
   "outputs": [],
   "source": [
    "D = 10000\n",
    "N = 1000\n",
    "thresh = np.round(np.arange(0,0.500001,0.05)*D)"
   ]
  },
  {
   "cell_type": "code",
   "execution_count": 10,
   "metadata": {},
   "outputs": [],
   "source": [
    "def bipolarize(X):\n",
    "    X[X > 0] = 1.0\n",
    "    X[X < 0] = -1.0\n",
    "    X[X == 0] = np.random.choice([-1.0, 1.0], size=len(X[X == 0]))\n",
    "    return X"
   ]
  },
  {
   "cell_type": "code",
   "execution_count": 49,
   "metadata": {},
   "outputs": [],
   "source": [
    "t = 300\n",
    "N = 10\n",
    "X = np.random.choice([-1.0, 1.0], size=D).reshape(1,-1)\n",
    "centroid = bipolarize(np.sum(X,axis=0)).reshape(1,-1)\n",
    "while X.shape[0] < N:\n",
    "    new = np.copy(centroid)\n",
    "    idx = np.random.permutation(D)[:t]\n",
    "    new[0,idx] = -new[0,idx]\n",
    "    X = np.concatenate((X,new))\n",
    "    \n",
    "    new = np.copy(centroid)\n",
    "    idx = np.random.permutation(D)[:t]\n",
    "    new[0,idx] = -new[0,idx]\n",
    "    X = np.concatenate((X,new))\n",
    "    \n",
    "    centroid = bipolarize(np.sum(X,axis=0)).reshape(1,-1)"
   ]
  },
  {
   "cell_type": "code",
   "execution_count": 50,
   "metadata": {},
   "outputs": [
    {
     "data": {
      "text/plain": [
       "<matplotlib.axes._subplots.AxesSubplot at 0x1a25c2bc90>"
      ]
     },
     "execution_count": 50,
     "metadata": {},
     "output_type": "execute_result"
    },
    {
     "data": {
      "image/png": "[encoded data removed]",
      "text/plain": [
       "<Figure size 432x288 with 2 Axes>"
      ]
     },
     "metadata": {},
     "output_type": "display_data"
    }
   ],
   "source": [
    "Xdist = pairwise_distances(X,metric='hamming')\n",
    "sns.set()\n",
    "sns.heatmap(Xdist)"
   ]
  },
  {
   "cell_type": "code",
   "execution_count": null,
   "metadata": {},
   "outputs": [],
   "source": []
  }
 ],
 "metadata": {
  "kernelspec": {
   "display_name": "Python 3",
   "language": "python",
   "name": "python3"
  },
  "language_info": {
   "codemirror_mode": {
    "name": "ipython",
    "version": 3
   },
   "file_extension": ".py",
   "mimetype": "text/x-python",
   "name": "python",
   "nbconvert_exporter": "python",
   "pygments_lexer": "ipython3",
   "version": "3.7.7"
  }
 },
 "nbformat": 4,
 "nbformat_minor": 4
}
