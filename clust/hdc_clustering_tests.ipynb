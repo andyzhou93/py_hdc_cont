{
 "cells": [
  {
   "cell_type": "code",
   "execution_count": 1,
   "metadata": {},
   "outputs": [],
   "source": [
    "# general purpose\n",
    "import numpy as np\n",
    "from itertools import combinations\n",
    "import pickle\n",
    "\n",
    "# plotting\n",
    "import matplotlib.pyplot as plt\n",
    "import seaborn as sns\n",
    "\n",
    "# calculations\n",
    "from sklearn.metrics import pairwise_distances\n",
    "from sklearn import metrics\n",
    "from scipy.spatial.distance import cdist, pdist\n",
    "from scipy.cluster.hierarchy import linkage, fcluster\n",
    "\n",
    "# clustering\n",
    "from sklearn.cluster import AgglomerativeClustering, KMeans, DBSCAN, AffinityPropagation\n",
    "import hdbscan"
   ]
  },
  {
   "cell_type": "code",
   "execution_count": 2,
   "metadata": {},
   "outputs": [],
   "source": [
    "# select dataset and encoding type\n",
    "dataName = 'allHV.npz'\n",
    "emgHVType =  'hvRel'\n",
    "\n",
    "allHV = np.load(dataName)\n",
    "\n",
    "# extract data and labels based on gesture, trial, and position\n",
    "hv = allHV[emgHVType]\n",
    "gestLabel = allHV['gestLabel']\n",
    "posLabel = allHV['posLabel']\n",
    "trialLabel = allHV['trialLabel']\n",
    "\n",
    "# get list of unique values for each label\n",
    "gestures = np.unique(gestLabel)\n",
    "positions = np.unique(posLabel)\n",
    "trials = np.unique(trialLabel)\n",
    "\n",
    "numGestures = len(gestures)\n",
    "numPositions = len(positions)\n",
    "numTrials = len(trials)\n",
    "\n",
    "# get data size info\n",
    "D = hv.shape[1] # hypervector dimension\n",
    "numHV = 80 # number of examples per trial\n",
    "\n",
    "# color palettes for plotting\n",
    "gPalette = sns.color_palette('Paired', numGestures)\n",
    "pPalette = sns.color_palette('Paired', numPositions)"
   ]
  },
  {
   "cell_type": "code",
   "execution_count": 6,
   "metadata": {},
   "outputs": [],
   "source": [
    "def bipolarize(Y):\n",
    "    X = np.copy(Y)\n",
    "    X[X > 0] = 1.0\n",
    "    X[X < 0] = -1.0\n",
    "    X[X == 0] = np.random.choice([-1.0, 1.0], size=len(X[X == 0]))\n",
    "    return X"
   ]
  },
  {
   "cell_type": "code",
   "execution_count": 7,
   "metadata": {},
   "outputs": [],
   "source": [
    "def centroids(X,label=None,doMean=False):\n",
    "    if label is not None:\n",
    "        c = np.zeros((len(np.unique(label)), X.shape[1]))\n",
    "        for i,l in enumerate(np.unique(label)):\n",
    "            if doMean:\n",
    "                c[i,:] = np.mean(X[label==l],axis=0)\n",
    "            else:\n",
    "                c[i,:] = bipolarize(np.sum(X[label==l],axis=0))\n",
    "    else:\n",
    "        if doMean:\n",
    "            c = np.mean(X,axis=0).reshape(1,-1)\n",
    "        else:\n",
    "            c = bipolarize(np.sum(X,axis=0)).reshape(1,-1)\n",
    "    return c"
   ]
  },
  {
   "cell_type": "code",
   "execution_count": 229,
   "metadata": {},
   "outputs": [],
   "source": [
    "def num_nonsingle(X):\n",
    "    _,counts = np.unique(X,return_counts=True)\n",
    "    return len(counts[counts != 1])"
   ]
  },
  {
   "cell_type": "code",
   "execution_count": 222,
   "metadata": {},
   "outputs": [],
   "source": [
    "def clust_hdc(Y,t,maxClust,perm=None,earlyStop=False):\n",
    "    label = -np.ones(len(Y),dtype='int32')\n",
    "    clusts = []\n",
    "    \n",
    "    if perm is not None:\n",
    "        X = np.copy(Y[perm])\n",
    "    else:\n",
    "        X = np.copy(Y)\n",
    "    \n",
    "    for i,x in enumerate(X):\n",
    "        _,counts = np.unique(label[label != -1], return_counts=True)\n",
    "        numClust = len(counts[counts != 1])\n",
    "        if (numClust >= maxClust) and earlyStop:\n",
    "            break\n",
    "        elif not clusts:\n",
    "            clusts.append(0)\n",
    "            label[i] = 0\n",
    "        else:\n",
    "            sim = np.zeros(len(clusts))\n",
    "            for c in clusts:\n",
    "                proto = bipolarize(np.sum(X[label==c],axis=0)).reshape(1,-1)\n",
    "                sim[c] = 1 - cdist(proto,x.reshape(1,-1),'hamming')\n",
    "            if (np.max(sim) > t) or (numClust >= maxClust) :\n",
    "                label[i] = np.argmax(sim)\n",
    "            else:\n",
    "                label[i] = max(clusts) + 1\n",
    "                clusts.append(max(clusts) + 1)\n",
    "        \n",
    "                \n",
    "    if perm is not None:\n",
    "        return label[np.argsort(perm)]\n",
    "    else:\n",
    "        return label"
   ]
  },
  {
   "cell_type": "code",
   "execution_count": 223,
   "metadata": {},
   "outputs": [],
   "source": [
    "def find_best_thresh(X,targetClusts):\n",
    "    print('Searching for threshold that gives %d clusters' % targetClusts)\n",
    "    tMax = 1\n",
    "    tMin = 0.5\n",
    "    tNew = 0.5\n",
    "    tFound = False\n",
    "    \n",
    "    while tMax - tMin > 0.00005:\n",
    "        tCurr = tNew\n",
    "        l = clust_hdc(X,tCurr,maxClust=targetClusts,perm=None,earlyStop=True)\n",
    "        if -1 in l: # too many clusters, stopped early\n",
    "            print('t = %f - early stop' % tCurr)\n",
    "            tMax = tCurr\n",
    "            tNew = np.mean([tCurr,tMin])\n",
    "        else:\n",
    "            _,counts = np.unique(l, return_counts=True)\n",
    "            numClust = len(counts[counts != 1])\n",
    "            print('t = %f - n = %d' % (tCurr,numClust))\n",
    "            if numClust > targetClusts:\n",
    "                tMax = tCurr\n",
    "                tNew = np.mean([tCurr,tMin])\n",
    "            elif numClust <= targetClusts:\n",
    "                tMin = tCurr\n",
    "                tNew = np.mean([tCurr,tMax])\n",
    "                if numClust == targetClusts:\n",
    "                    tBest = tCurr\n",
    "                    lBest = l\n",
    "                    tFound = True\n",
    "                    \n",
    "    if tFound:\n",
    "        print('Best guess: %f with %d clusters' % (tBest, targetClusts))\n",
    "        print('')\n",
    "        return tBest, lBest\n",
    "    else:\n",
    "        print('Best guess: %f with %d clusters' % (tCurr, numClust))\n",
    "        print('')\n",
    "        return tCurr, l"
   ]
  },
  {
   "cell_type": "code",
   "execution_count": 258,
   "metadata": {},
   "outputs": [
    {
     "name": "stdout",
     "output_type": "stream",
     "text": [
      "Searching for threshold that gives 2 clusters\n"
     ]
    },
    {
     "ename": "KeyboardInterrupt",
     "evalue": "",
     "output_type": "error",
     "traceback": [
      "\u001b[0;31m---------------------------------------------------------------------------\u001b[0m",
      "\u001b[0;31mKeyboardInterrupt\u001b[0m                         Traceback (most recent call last)",
      "\u001b[0;32m<ipython-input-258-9ca51b036b39>\u001b[0m in \u001b[0;36m<module>\u001b[0;34m\u001b[0m\n\u001b[1;32m      5\u001b[0m     \u001b[0mposFilt\u001b[0m \u001b[0;34m=\u001b[0m \u001b[0mposLabel\u001b[0m\u001b[0;34m[\u001b[0m\u001b[0mfilt\u001b[0m\u001b[0;34m]\u001b[0m\u001b[0;34m\u001b[0m\u001b[0;34m\u001b[0m\u001b[0m\n\u001b[1;32m      6\u001b[0m \u001b[0;34m\u001b[0m\u001b[0m\n\u001b[0;32m----> 7\u001b[0;31m     \u001b[0mtMin\u001b[0m \u001b[0;34m=\u001b[0m \u001b[0mfind_best_thresh\u001b[0m\u001b[0;34m(\u001b[0m\u001b[0mX\u001b[0m\u001b[0;34m,\u001b[0m\u001b[0;36m2\u001b[0m\u001b[0;34m)\u001b[0m\u001b[0;34m[\u001b[0m\u001b[0;36m0\u001b[0m\u001b[0;34m]\u001b[0m\u001b[0;34m\u001b[0m\u001b[0;34m\u001b[0m\u001b[0m\n\u001b[0m\u001b[1;32m      8\u001b[0m     \u001b[0mtMax\u001b[0m \u001b[0;34m=\u001b[0m \u001b[0mfind_best_thresh\u001b[0m\u001b[0;34m(\u001b[0m\u001b[0mX\u001b[0m\u001b[0;34m,\u001b[0m\u001b[0;36m8\u001b[0m\u001b[0;34m)\u001b[0m\u001b[0;34m[\u001b[0m\u001b[0;36m0\u001b[0m\u001b[0;34m]\u001b[0m\u001b[0;34m\u001b[0m\u001b[0;34m\u001b[0m\u001b[0m\n\u001b[1;32m      9\u001b[0m     \u001b[0mtRange\u001b[0m \u001b[0;34m=\u001b[0m \u001b[0mnp\u001b[0m\u001b[0;34m.\u001b[0m\u001b[0mlinspace\u001b[0m\u001b[0;34m(\u001b[0m\u001b[0mtMin\u001b[0m\u001b[0;34m,\u001b[0m\u001b[0mtMax\u001b[0m\u001b[0;34m,\u001b[0m\u001b[0;36m6\u001b[0m\u001b[0;34m)\u001b[0m\u001b[0;34m\u001b[0m\u001b[0;34m\u001b[0m\u001b[0m\n",
      "\u001b[0;32m<ipython-input-223-7af76df08d8c>\u001b[0m in \u001b[0;36mfind_best_thresh\u001b[0;34m(X, targetClusts)\u001b[0m\n\u001b[1;32m      8\u001b[0m     \u001b[0;32mwhile\u001b[0m \u001b[0mtMax\u001b[0m \u001b[0;34m-\u001b[0m \u001b[0mtMin\u001b[0m \u001b[0;34m>\u001b[0m \u001b[0;36m0.00005\u001b[0m\u001b[0;34m:\u001b[0m\u001b[0;34m\u001b[0m\u001b[0;34m\u001b[0m\u001b[0m\n\u001b[1;32m      9\u001b[0m         \u001b[0mtCurr\u001b[0m \u001b[0;34m=\u001b[0m \u001b[0mtNew\u001b[0m\u001b[0;34m\u001b[0m\u001b[0;34m\u001b[0m\u001b[0m\n\u001b[0;32m---> 10\u001b[0;31m         \u001b[0ml\u001b[0m \u001b[0;34m=\u001b[0m \u001b[0mclust_hdc\u001b[0m\u001b[0;34m(\u001b[0m\u001b[0mX\u001b[0m\u001b[0;34m,\u001b[0m\u001b[0mtCurr\u001b[0m\u001b[0;34m,\u001b[0m\u001b[0mmaxClust\u001b[0m\u001b[0;34m=\u001b[0m\u001b[0mtargetClusts\u001b[0m\u001b[0;34m,\u001b[0m\u001b[0mperm\u001b[0m\u001b[0;34m=\u001b[0m\u001b[0;32mNone\u001b[0m\u001b[0;34m,\u001b[0m\u001b[0mearlyStop\u001b[0m\u001b[0;34m=\u001b[0m\u001b[0;32mTrue\u001b[0m\u001b[0;34m)\u001b[0m\u001b[0;34m\u001b[0m\u001b[0;34m\u001b[0m\u001b[0m\n\u001b[0m\u001b[1;32m     11\u001b[0m         \u001b[0;32mif\u001b[0m \u001b[0;34m-\u001b[0m\u001b[0;36m1\u001b[0m \u001b[0;32min\u001b[0m \u001b[0ml\u001b[0m\u001b[0;34m:\u001b[0m \u001b[0;31m# too many clusters, stopped early\u001b[0m\u001b[0;34m\u001b[0m\u001b[0;34m\u001b[0m\u001b[0m\n\u001b[1;32m     12\u001b[0m             \u001b[0mprint\u001b[0m\u001b[0;34m(\u001b[0m\u001b[0;34m't = %f - early stop'\u001b[0m \u001b[0;34m%\u001b[0m \u001b[0mtCurr\u001b[0m\u001b[0;34m)\u001b[0m\u001b[0;34m\u001b[0m\u001b[0;34m\u001b[0m\u001b[0m\n",
      "\u001b[0;32m<ipython-input-222-da7f290284d8>\u001b[0m in \u001b[0;36mclust_hdc\u001b[0;34m(Y, t, maxClust, perm, earlyStop)\u001b[0m\n\u001b[1;32m     19\u001b[0m             \u001b[0msim\u001b[0m \u001b[0;34m=\u001b[0m \u001b[0mnp\u001b[0m\u001b[0;34m.\u001b[0m\u001b[0mzeros\u001b[0m\u001b[0;34m(\u001b[0m\u001b[0mlen\u001b[0m\u001b[0;34m(\u001b[0m\u001b[0mclusts\u001b[0m\u001b[0;34m)\u001b[0m\u001b[0;34m)\u001b[0m\u001b[0;34m\u001b[0m\u001b[0;34m\u001b[0m\u001b[0m\n\u001b[1;32m     20\u001b[0m             \u001b[0;32mfor\u001b[0m \u001b[0mc\u001b[0m \u001b[0;32min\u001b[0m \u001b[0mclusts\u001b[0m\u001b[0;34m:\u001b[0m\u001b[0;34m\u001b[0m\u001b[0;34m\u001b[0m\u001b[0m\n\u001b[0;32m---> 21\u001b[0;31m                 \u001b[0mproto\u001b[0m \u001b[0;34m=\u001b[0m \u001b[0mbipolarize\u001b[0m\u001b[0;34m(\u001b[0m\u001b[0mnp\u001b[0m\u001b[0;34m.\u001b[0m\u001b[0msum\u001b[0m\u001b[0;34m(\u001b[0m\u001b[0mX\u001b[0m\u001b[0;34m[\u001b[0m\u001b[0mlabel\u001b[0m\u001b[0;34m==\u001b[0m\u001b[0mc\u001b[0m\u001b[0;34m]\u001b[0m\u001b[0;34m,\u001b[0m\u001b[0maxis\u001b[0m\u001b[0;34m=\u001b[0m\u001b[0;36m0\u001b[0m\u001b[0;34m)\u001b[0m\u001b[0;34m)\u001b[0m\u001b[0;34m.\u001b[0m\u001b[0mreshape\u001b[0m\u001b[0;34m(\u001b[0m\u001b[0;36m1\u001b[0m\u001b[0;34m,\u001b[0m\u001b[0;34m-\u001b[0m\u001b[0;36m1\u001b[0m\u001b[0;34m)\u001b[0m\u001b[0;34m\u001b[0m\u001b[0;34m\u001b[0m\u001b[0m\n\u001b[0m\u001b[1;32m     22\u001b[0m                 \u001b[0msim\u001b[0m\u001b[0;34m[\u001b[0m\u001b[0mc\u001b[0m\u001b[0;34m]\u001b[0m \u001b[0;34m=\u001b[0m \u001b[0;36m1\u001b[0m \u001b[0;34m-\u001b[0m \u001b[0mcdist\u001b[0m\u001b[0;34m(\u001b[0m\u001b[0mproto\u001b[0m\u001b[0;34m,\u001b[0m\u001b[0mx\u001b[0m\u001b[0;34m.\u001b[0m\u001b[0mreshape\u001b[0m\u001b[0;34m(\u001b[0m\u001b[0;36m1\u001b[0m\u001b[0;34m,\u001b[0m\u001b[0;34m-\u001b[0m\u001b[0;36m1\u001b[0m\u001b[0;34m)\u001b[0m\u001b[0;34m,\u001b[0m\u001b[0;34m'hamming'\u001b[0m\u001b[0;34m)\u001b[0m\u001b[0;34m\u001b[0m\u001b[0;34m\u001b[0m\u001b[0m\n\u001b[1;32m     23\u001b[0m             \u001b[0;32mif\u001b[0m \u001b[0;34m(\u001b[0m\u001b[0mnp\u001b[0m\u001b[0;34m.\u001b[0m\u001b[0mmax\u001b[0m\u001b[0;34m(\u001b[0m\u001b[0msim\u001b[0m\u001b[0;34m)\u001b[0m \u001b[0;34m>\u001b[0m \u001b[0mt\u001b[0m\u001b[0;34m)\u001b[0m \u001b[0;32mor\u001b[0m \u001b[0;34m(\u001b[0m\u001b[0mnumClust\u001b[0m \u001b[0;34m>=\u001b[0m \u001b[0mmaxClust\u001b[0m\u001b[0;34m)\u001b[0m \u001b[0;34m:\u001b[0m\u001b[0;34m\u001b[0m\u001b[0;34m\u001b[0m\u001b[0m\n",
      "\u001b[0;32m<__array_function__ internals>\u001b[0m in \u001b[0;36msum\u001b[0;34m(*args, **kwargs)\u001b[0m\n",
      "\u001b[0;32m~/opt/anaconda3/envs/hdcpar/lib/python3.7/site-packages/numpy/core/fromnumeric.py\u001b[0m in \u001b[0;36msum\u001b[0;34m(a, axis, dtype, out, keepdims, initial, where)\u001b[0m\n\u001b[1;32m   2227\u001b[0m \u001b[0;34m\u001b[0m\u001b[0m\n\u001b[1;32m   2228\u001b[0m     return _wrapreduction(a, np.add, 'sum', axis, dtype, out, keepdims=keepdims,\n\u001b[0;32m-> 2229\u001b[0;31m                           initial=initial, where=where)\n\u001b[0m\u001b[1;32m   2230\u001b[0m \u001b[0;34m\u001b[0m\u001b[0m\n\u001b[1;32m   2231\u001b[0m \u001b[0;34m\u001b[0m\u001b[0m\n",
      "\u001b[0;32m~/opt/anaconda3/envs/hdcpar/lib/python3.7/site-packages/numpy/core/fromnumeric.py\u001b[0m in \u001b[0;36m_wrapreduction\u001b[0;34m(obj, ufunc, method, axis, dtype, out, **kwargs)\u001b[0m\n\u001b[1;32m     88\u001b[0m                 \u001b[0;32mreturn\u001b[0m \u001b[0mreduction\u001b[0m\u001b[0;34m(\u001b[0m\u001b[0maxis\u001b[0m\u001b[0;34m=\u001b[0m\u001b[0maxis\u001b[0m\u001b[0;34m,\u001b[0m \u001b[0mout\u001b[0m\u001b[0;34m=\u001b[0m\u001b[0mout\u001b[0m\u001b[0;34m,\u001b[0m \u001b[0;34m**\u001b[0m\u001b[0mpasskwargs\u001b[0m\u001b[0;34m)\u001b[0m\u001b[0;34m\u001b[0m\u001b[0;34m\u001b[0m\u001b[0m\n\u001b[1;32m     89\u001b[0m \u001b[0;34m\u001b[0m\u001b[0m\n\u001b[0;32m---> 90\u001b[0;31m     \u001b[0;32mreturn\u001b[0m \u001b[0mufunc\u001b[0m\u001b[0;34m.\u001b[0m\u001b[0mreduce\u001b[0m\u001b[0;34m(\u001b[0m\u001b[0mobj\u001b[0m\u001b[0;34m,\u001b[0m \u001b[0maxis\u001b[0m\u001b[0;34m,\u001b[0m \u001b[0mdtype\u001b[0m\u001b[0;34m,\u001b[0m \u001b[0mout\u001b[0m\u001b[0;34m,\u001b[0m \u001b[0;34m**\u001b[0m\u001b[0mpasskwargs\u001b[0m\u001b[0;34m)\u001b[0m\u001b[0;34m\u001b[0m\u001b[0;34m\u001b[0m\u001b[0m\n\u001b[0m\u001b[1;32m     91\u001b[0m \u001b[0;34m\u001b[0m\u001b[0m\n\u001b[1;32m     92\u001b[0m \u001b[0;34m\u001b[0m\u001b[0m\n",
      "\u001b[0;31mKeyboardInterrupt\u001b[0m: "
     ]
    }
   ],
   "source": [
    "standardOrder = []\n",
    "for g in [0]:\n",
    "    filt = (gestLabel == g)\n",
    "    X = np.copy(hv[filt])\n",
    "    posFilt = posLabel[filt]\n",
    "    \n",
    "    tMin = find_best_thresh(X,2)[0]\n",
    "    tMax = find_best_thresh(X,8)[0]\n",
    "    tRange = np.linspace(tMin,tMax,6)\n",
    "    \n",
    "    nIter = 30\n",
    "    standardOrder = []\n",
    "    randPos = []\n",
    "    randAll = []\n",
    "    \n",
    "    for n in range(nIter):\n",
    "        allPerm = np.random.permutation(len(X))\n",
    "        \n",
    "        posPerm = np.arange(len(X))\n",
    "        for p in positions:\n",
    "            np.random.shuffle(posPerm[np.where(posFilt==p)[0][0]:(np.where(posFilt==p)[0][-1] + 1)])\n",
    "        posPerm = posPerm.reshape(-1,round(len(X)/numPositions))\n",
    "        np.random.shuffle(posPerm)\n",
    "        posPerm = posPerm.flatten()\n",
    "        \n",
    "        a = []\n",
    "        b = []\n",
    "        for t in tRange:\n",
    "            print('Running iteration %d: thresh = %f' % (n,t))\n",
    "            if n == 0:\n",
    "                standardOrder.append(clust_hdc(X,t,maxClust=len(X),perm=None))\n",
    "                \n",
    "            a.append(clust_hdc(X,t,maxClust=len(X),perm=allPerm))\n",
    "            b.append(clust_hdc(X,t,maxClust=len(X),perm=posPerm))\n",
    "            \n",
    "        randPos.append(b)\n",
    "        randAll.append(a)"
   ]
  },
  {
   "cell_type": "code",
   "execution_count": 243,
   "metadata": {},
   "outputs": [
    {
     "data": {
      "text/plain": [
       "[1, 5, 6, 6, 7, 8]"
      ]
     },
     "execution_count": 243,
     "metadata": {},
     "output_type": "execute_result"
    }
   ],
   "source": [
    "n = [num_nonsingle(x) for x in standardOrder]\n",
    "n"
   ]
  },
  {
   "cell_type": "code",
   "execution_count": 256,
   "metadata": {},
   "outputs": [
    {
     "data": {
      "text/plain": [
       "[[2, 3, 5, 7, 8, 10],\n",
       " [2, 3, 4, 6, 9, 11],\n",
       " [2, 3, 5, 6, 8, 10],\n",
       " [2, 3, 6, 8, 8, 10],\n",
       " [2, 3, 3, 7, 8, 10],\n",
       " [3, 4, 5, 7, 9, 10]]"
      ]
     },
     "execution_count": 256,
     "metadata": {},
     "output_type": "execute_result"
    }
   ],
   "source": [
    "n = [[num_nonsingle(x) for x in r] for r in randPos]\n",
    "n"
   ]
  },
  {
   "cell_type": "code",
   "execution_count": 257,
   "metadata": {},
   "outputs": [
    {
     "data": {
      "text/plain": [
       "[[2, 2, 4, 6, 8, 10],\n",
       " [3, 4, 5, 7, 9, 11],\n",
       " [2, 2, 6, 8, 9, 11],\n",
       " [2, 3, 6, 8, 9, 10],\n",
       " [2, 3, 5, 8, 9, 10],\n",
       " [2, 2, 4, 7, 8, 10]]"
      ]
     },
     "execution_count": 257,
     "metadata": {},
     "output_type": "execute_result"
    }
   ],
   "source": [
    "n = [[num_nonsingle(x) for x in r] for r in randAll]\n",
    "n"
   ]
  },
  {
   "cell_type": "code",
   "execution_count": 255,
   "metadata": {},
   "outputs": [
    {
     "data": {
      "text/plain": [
       "(36, 1920)"
      ]
     },
     "execution_count": 255,
     "metadata": {},
     "output_type": "execute_result"
    }
   ],
   "source": [
    "randPos[0"
   ]
  },
  {
   "cell_type": "code",
   "execution_count": null,
   "metadata": {},
   "outputs": [],
   "source": []
  }
 ],
 "metadata": {
  "kernelspec": {
   "display_name": "Python 3",
   "language": "python",
   "name": "python3"
  },
  "language_info": {
   "codemirror_mode": {
    "name": "ipython",
    "version": 3
   },
   "file_extension": ".py",
   "mimetype": "text/x-python",
   "name": "python",
   "nbconvert_exporter": "python",
   "pygments_lexer": "ipython3",
   "version": "3.7.7"
  }
 },
 "nbformat": 4,
 "nbformat_minor": 4
}
