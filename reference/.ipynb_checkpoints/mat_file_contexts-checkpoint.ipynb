{
 "cells": [
  {
   "cell_type": "code",
   "execution_count": 4,
   "metadata": {},
   "outputs": [
    {
     "data": {
      "text/html": [
       "<style>.container { width:90% !important; }</style>"
      ],
      "text/plain": [
       "<IPython.core.display.HTML object>"
      ]
     },
     "metadata": {},
     "output_type": "display_data"
    }
   ],
   "source": [
    "from IPython.core.display import display, HTML\n",
    "display(HTML(\"<style>.container { width:90% !important; }</style>\"))\n",
    "\n",
    "import scipy.io as sio\n",
    "import numpy as np\n",
    "import pandas as pd\n",
    "from matplotlib import pyplot as plt\n",
    "\n",
    "%matplotlib notebook"
   ]
  },
  {
   "cell_type": "markdown",
   "metadata": {},
   "source": [
    "# Offline dataset"
   ]
  },
  {
   "cell_type": "code",
   "execution_count": 43,
   "metadata": {},
   "outputs": [],
   "source": [
    "# location of all offline data\n",
    "dataDir = '../emg_mat/offline/'\n",
    "\n",
    "# subjects (1-5) and experiments (1-8) to go through\n",
    "# 1: baseline single\n",
    "# 2: baseline multi\n",
    "# 3: arm position\n",
    "# 4: low effort\n",
    "# 5: medium effort\n",
    "# 6: high effort\n",
    "# 7: new wear session\n",
    "# 8: prolonged wear (relative to 7)\n",
    "subject = 1\n",
    "experiment = 1\n",
    "\n",
    "filename = dataDir + 'S' + str(subject) + 'E' + str(experiment) + '.mat'\n",
    "emgHD = sio.loadmat(filename)['emgHD']\n",
    "\n",
    "numGest, numTrial = emgHD.shape\n",
    "\n",
    "g = 3 # from range(numGest)\n",
    "t = 3 # from range(numTrial)\n",
    "\n",
    "trial = emgHD[g,t]\n",
    "raw = trial[0]\n",
    "gestureID = trial[1][0,0]\n",
    "features = trial[2]\n",
    "ngrams = trial[3]"
   ]
  },
  {
   "cell_type": "markdown",
   "metadata": {},
   "source": [
    "# Realtime, online dataset"
   ]
  },
  {
   "cell_type": "code",
   "execution_count": 114,
   "metadata": {},
   "outputs": [],
   "source": [
    "# location of all online data\n",
    "dataDir = '../emg_mat/realtime/'\n",
    "\n",
    "# subjects (1-2) experiments (ap, mu, nd, pw) and sessions (1-3)\n",
    "# ap: arm position\n",
    "# mu: multi dof\n",
    "# nd: new day/wear session\n",
    "# pw: prolonged wear\n",
    "subject = 1\n",
    "experiment = 'ap'\n",
    "session = 1\n",
    "\n",
    "filename = dataDir + 's' + str(subject) + '_' + experiment + str(session) + '.mat'\n",
    "sess = sio.loadmat(filename)['experiment']\n",
    "\n",
    "numTrial = exp.shape[1]\n",
    "\n",
    "t = 1 # from range(numTrial)\n",
    "trial = sess[0,t]\n",
    "description = trial[0][0]\n",
    "numGest = trial[1].shape[1]\n",
    "\n",
    "g = 2 # from range(numGest)\n",
    "gestureID = trial[1][0,g][0][0][0]\n",
    "blindLabel = trial[1][0,g][1]\n",
    "offlineLabel = trial[1][0,g][2]\n",
    "raw = trial[1][0,g][3]\n",
    "features = trial[1][0,g][4]\n",
    "onlinePrediction = trial[1][0,g][5]\n",
    "onlineSimilarities = trial[1][0,g][6]"
   ]
  }
 ],
 "metadata": {
  "kernelspec": {
   "display_name": "hdc",
   "language": "python",
   "name": "hdc"
  },
  "language_info": {
   "codemirror_mode": {
    "name": "ipython",
    "version": 3
   },
   "file_extension": ".py",
   "mimetype": "text/x-python",
   "name": "python",
   "nbconvert_exporter": "python",
   "pygments_lexer": "ipython3",
   "version": "3.8.1"
  }
 },
 "nbformat": 4,
 "nbformat_minor": 2
}
