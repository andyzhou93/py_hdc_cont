{
 "cells": [
  {
   "cell_type": "code",
   "execution_count": 1,
   "metadata": {},
   "outputs": [],
   "source": [
    "import h5py\n",
    "import numpy as np\n",
    "\n",
    "from scipy.spatial.distance import cdist\n",
    "\n",
    "import matplotlib.pyplot as plt\n",
    "import seaborn as sns\n",
    "\n",
    "from tqdm import tqdm"
   ]
  },
  {
   "cell_type": "code",
   "execution_count": 2,
   "metadata": {},
   "outputs": [],
   "source": [
    "dataFile = 'data.mat'"
   ]
  },
  {
   "cell_type": "code",
   "execution_count": 3,
   "metadata": {},
   "outputs": [],
   "source": [
    "file = h5py.File(dataFile,'r')\n",
    "experimentData = file['experimentData']\n",
    "keys = list(experimentData.keys())"
   ]
  },
  {
   "cell_type": "code",
   "execution_count": 4,
   "metadata": {},
   "outputs": [],
   "source": [
    "numTrials, numPositions, numGestures = experimentData[keys[0]].shape\n",
    "D = file[experimentData[keys[4]][0,0,0]].shape[1]\n",
    "numEx = 80"
   ]
  },
  {
   "cell_type": "code",
   "execution_count": 5,
   "metadata": {},
   "outputs": [],
   "source": [
    "maxLevels = 64\n",
    "accIMs = []\n",
    "for N in range(1,maxLevels+1):\n",
    "    ims = []\n",
    "    for i in range(3):\n",
    "        im = np.zeros((N,D))\n",
    "        for x in range(N):\n",
    "            im[x,:] = np.random.choice([-1.0, 1.0], size=D)\n",
    "        ims.append(im)\n",
    "    accIMs.append(ims)\n",
    "    \n",
    "accCIMs = []\n",
    "for N in range(1,maxLevels+1):\n",
    "    ims = []\n",
    "    for i in range(3):\n",
    "        im = np.zeros((N,D))\n",
    "        seed = np.random.choice([-1.0, 1.0], size=D)\n",
    "        flipBits = np.random.permutation(D)\n",
    "        numFlip = np.round(np.linspace(0,1000,N)).astype('int')\n",
    "        for x in range(N):\n",
    "            im[x,:] = seed\n",
    "            im[x,flipBits[:numFlip[x]]] *= -1\n",
    "        ims.append(im)\n",
    "    accCIMs.append(ims)"
   ]
  },
  {
   "cell_type": "code",
   "execution_count": 6,
   "metadata": {},
   "outputs": [],
   "source": [
    "# x = np.vstack(accIMs[63])\n",
    "# d = cdist(x,x,'hamming')\n",
    "# d = d[~np.eye(d.shape[0],dtype=bool)]\n",
    "# sns.distplot(d)\n",
    "# plt.show()"
   ]
  },
  {
   "cell_type": "code",
   "execution_count": 7,
   "metadata": {},
   "outputs": [],
   "source": [
    "# x = np.vstack(accCIMs[50])\n",
    "# d = cdist(x,x,'hamming')\n",
    "# sns.heatmap(d,vmin=0,vmax=1)\n",
    "# plt.show()"
   ]
  },
  {
   "cell_type": "code",
   "execution_count": 8,
   "metadata": {
    "scrolled": true
   },
   "outputs": [
    {
     "name": "stderr",
     "output_type": "stream",
     "text": [
      "100%|██████████| 13/13 [01:25<00:00,  6.58s/it]\n"
     ]
    }
   ],
   "source": [
    "# hvIM = []\n",
    "hvCIM = []\n",
    "\n",
    "totalEx = numEx*numGestures*numPositions*numTrials\n",
    "\n",
    "for N in range(maxLevels):\n",
    "#     hvIM.append(np.zeros((totalEx,D),dtype=np.int8))\n",
    "    hvCIM.append(np.zeros((totalEx,D),dtype=np.int8))\n",
    "    \n",
    "gestLabel = np.zeros(totalEx)\n",
    "posLabel = np.zeros(totalEx)\n",
    "    \n",
    "idx = np.arange(numEx).astype('int')\n",
    "\n",
    "for g in tqdm(range(numGestures)):\n",
    "    for p in range(numPositions):\n",
    "        for t in range(numTrials):\n",
    "            expLabel = file[experimentData['expGestLabel'][t,p,g]][0,:]\n",
    "            r = file[experimentData['emgHV'][t,p,g]][expLabel>0,:]\n",
    "            accFeat = file[experimentData['accFeat'][t,p,g]][:,expLabel>0].T\n",
    "            \n",
    "            for N in range(maxLevels):\n",
    "                accIdx = np.round((accFeat + 1)/2*N).astype('int')\n",
    "                accIdx[accIdx < 0] = 0\n",
    "                accIdx[accIdx > N] = N\n",
    "                \n",
    "#                 xHV = accIMs[N][0][accIdx[:,0]]\n",
    "#                 yHV = accIMs[N][1][accIdx[:,1]]\n",
    "#                 zHV = accIMs[N][2][accIdx[:,2]]\n",
    "#                 hvIM[N][idx,:] = xHV*yHV*zHV*r\n",
    "# #                 hvIM[N][idx,:] = xHV*yHV*zHV\n",
    "                \n",
    "                xHV = accCIMs[N][0][accIdx[:,0]]\n",
    "                yHV = accCIMs[N][1][accIdx[:,1]]\n",
    "                zHV = accCIMs[N][2][accIdx[:,2]]\n",
    "                hvCIM[N][idx,:] = xHV*yHV*zHV*r\n",
    "#                 hvCIM[N][idx,:] = xHV*yHV*zHV\n",
    "\n",
    "            gestLabel[idx] = g\n",
    "            posLabel[idx] = p\n",
    "            idx += numEx"
   ]
  },
  {
   "cell_type": "code",
   "execution_count": 9,
   "metadata": {},
   "outputs": [],
   "source": [
    "# fname = 'allHV_IM0.npz'\n",
    "# np.savez(fname,*hvIM)\n",
    "\n",
    "fname = 'allHV_CIM_1000.npz'\n",
    "np.savez(fname,*hvCIM)"
   ]
  },
  {
   "cell_type": "code",
   "execution_count": 10,
   "metadata": {},
   "outputs": [],
   "source": [
    "# N = 8\n",
    "# f,ax = plt.subplots(numGestures,numPositions,figsize=(30,30))\n",
    "# for g in range(numGestures):\n",
    "#     for p in range(numPositions):\n",
    "#         x = hvIM[N-1][(posLabel == p) & (gestLabel == g)]\n",
    "#         d = cdist(x,x,'hamming')\n",
    "#         sns.heatmap(d,vmin=0,vmax=0.5,ax=ax[g,p])"
   ]
  }
 ],
 "metadata": {
  "kernelspec": {
   "display_name": "Python 3",
   "language": "python",
   "name": "python3"
  },
  "language_info": {
   "codemirror_mode": {
    "name": "ipython",
    "version": 3
   },
   "file_extension": ".py",
   "mimetype": "text/x-python",
   "name": "python",
   "nbconvert_exporter": "python",
   "pygments_lexer": "ipython3",
   "version": "3.7.7"
  }
 },
 "nbformat": 4,
 "nbformat_minor": 4
}
